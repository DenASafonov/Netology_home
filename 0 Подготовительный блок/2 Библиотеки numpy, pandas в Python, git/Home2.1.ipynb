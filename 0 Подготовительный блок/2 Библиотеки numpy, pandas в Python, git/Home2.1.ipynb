{
 "cells": [
  {
   "cell_type": "code",
   "execution_count": 2,
   "metadata": {
    "collapsed": true
   },
   "outputs": [],
   "source": [
    "import pandas as pd\n",
    "import numpy as np"
   ]
  },
  {
   "cell_type": "code",
   "execution_count": 3,
   "metadata": {},
   "outputs": [
    {
     "data": {
      "text/html": [
       "<div>\n",
       "<style>\n",
       "    .dataframe thead tr:only-child th {\n",
       "        text-align: right;\n",
       "    }\n",
       "\n",
       "    .dataframe thead th {\n",
       "        text-align: left;\n",
       "    }\n",
       "\n",
       "    .dataframe tbody tr th {\n",
       "        vertical-align: top;\n",
       "    }\n",
       "</style>\n",
       "<table border=\"1\" class=\"dataframe\">\n",
       "  <thead>\n",
       "    <tr style=\"text-align: right;\">\n",
       "      <th></th>\n",
       "      <th>Rank</th>\n",
       "      <th>Mountain</th>\n",
       "      <th>Height (m)</th>\n",
       "      <th>Height (ft)</th>\n",
       "      <th>Prominence (m)</th>\n",
       "      <th>Range</th>\n",
       "      <th>Coordinates</th>\n",
       "      <th>Parent mountain</th>\n",
       "      <th>First ascent</th>\n",
       "      <th>Ascents bef. 2004</th>\n",
       "      <th>Failed attempts bef. 2004</th>\n",
       "    </tr>\n",
       "  </thead>\n",
       "  <tbody>\n",
       "    <tr>\n",
       "      <th>0</th>\n",
       "      <td>1</td>\n",
       "      <td>Mount Everest / Sagarmatha / Chomolungma</td>\n",
       "      <td>8848</td>\n",
       "      <td>29029</td>\n",
       "      <td>8848</td>\n",
       "      <td>Mahalangur Himalaya</td>\n",
       "      <td>27°59′17″N 86°55′31″E﻿</td>\n",
       "      <td>NaN</td>\n",
       "      <td>1953</td>\n",
       "      <td>&gt;&gt;145</td>\n",
       "      <td>121.0</td>\n",
       "    </tr>\n",
       "    <tr>\n",
       "      <th>1</th>\n",
       "      <td>2</td>\n",
       "      <td>K2 / Qogir / Godwin Austen</td>\n",
       "      <td>8611</td>\n",
       "      <td>28251</td>\n",
       "      <td>4017</td>\n",
       "      <td>Baltoro Karakoram</td>\n",
       "      <td>35°52′53″N 76°30′48″E﻿</td>\n",
       "      <td>Mount Everest</td>\n",
       "      <td>1954</td>\n",
       "      <td>45</td>\n",
       "      <td>44.0</td>\n",
       "    </tr>\n",
       "    <tr>\n",
       "      <th>2</th>\n",
       "      <td>3</td>\n",
       "      <td>Kangchenjunga</td>\n",
       "      <td>8586</td>\n",
       "      <td>28169</td>\n",
       "      <td>3922</td>\n",
       "      <td>Kangchenjunga Himalaya</td>\n",
       "      <td>27°42′12″N 88°08′51″E﻿</td>\n",
       "      <td>Mount Everest</td>\n",
       "      <td>1955</td>\n",
       "      <td>38</td>\n",
       "      <td>24.0</td>\n",
       "    </tr>\n",
       "    <tr>\n",
       "      <th>3</th>\n",
       "      <td>4</td>\n",
       "      <td>Lhotse</td>\n",
       "      <td>8516</td>\n",
       "      <td>27940</td>\n",
       "      <td>610</td>\n",
       "      <td>Mahalangur Himalaya</td>\n",
       "      <td>27°57′42″N 86°55′59″E﻿</td>\n",
       "      <td>Mount Everest</td>\n",
       "      <td>1956</td>\n",
       "      <td>26</td>\n",
       "      <td>26.0</td>\n",
       "    </tr>\n",
       "    <tr>\n",
       "      <th>4</th>\n",
       "      <td>5</td>\n",
       "      <td>Makalu</td>\n",
       "      <td>8485</td>\n",
       "      <td>27838</td>\n",
       "      <td>2386</td>\n",
       "      <td>Mahalangur Himalaya</td>\n",
       "      <td>27°53′23″N 87°05′20″E﻿</td>\n",
       "      <td>Mount Everest</td>\n",
       "      <td>1955</td>\n",
       "      <td>45</td>\n",
       "      <td>52.0</td>\n",
       "    </tr>\n",
       "  </tbody>\n",
       "</table>\n",
       "</div>"
      ],
      "text/plain": [
       "   Rank                                  Mountain  Height (m)  Height (ft)  \\\n",
       "0     1  Mount Everest / Sagarmatha / Chomolungma        8848        29029   \n",
       "1     2                K2 / Qogir / Godwin Austen        8611        28251   \n",
       "2     3                             Kangchenjunga        8586        28169   \n",
       "3     4                                    Lhotse        8516        27940   \n",
       "4     5                                    Makalu        8485        27838   \n",
       "\n",
       "   Prominence (m)                   Range              Coordinates  \\\n",
       "0            8848     Mahalangur Himalaya  27°59′17″N 86°55′31″E﻿    \n",
       "1            4017       Baltoro Karakoram  35°52′53″N 76°30′48″E﻿    \n",
       "2            3922  Kangchenjunga Himalaya  27°42′12″N 88°08′51″E﻿    \n",
       "3             610     Mahalangur Himalaya  27°57′42″N 86°55′59″E﻿    \n",
       "4            2386     Mahalangur Himalaya  27°53′23″N 87°05′20″E﻿    \n",
       "\n",
       "  Parent mountain First ascent Ascents bef. 2004  Failed attempts bef. 2004  \n",
       "0             NaN         1953            >>145                       121.0  \n",
       "1   Mount Everest         1954                45                       44.0  \n",
       "2   Mount Everest         1955                38                       24.0  \n",
       "3   Mount Everest         1956                26                       26.0  \n",
       "4   Mount Everest         1955                45                       52.0  "
      ]
     },
     "execution_count": 3,
     "metadata": {},
     "output_type": "execute_result"
    }
   ],
   "source": [
    "data = pd.read_csv( 'Mountains.csv', delimiter = ',' )\n",
    "data.head(5)"
   ]
  },
  {
   "cell_type": "code",
   "execution_count": 4,
   "metadata": {
    "collapsed": true
   },
   "outputs": [],
   "source": [
    "Parent_mountain_count =  data['Parent mountain'].value_counts()[ lambda x : x > 3 ]"
   ]
  },
  {
   "cell_type": "code",
   "execution_count": 5,
   "metadata": {},
   "outputs": [
    {
     "data": {
      "text/html": [
       "<div>\n",
       "<style>\n",
       "    .dataframe thead tr:only-child th {\n",
       "        text-align: right;\n",
       "    }\n",
       "\n",
       "    .dataframe thead th {\n",
       "        text-align: left;\n",
       "    }\n",
       "\n",
       "    .dataframe tbody tr th {\n",
       "        vertical-align: top;\n",
       "    }\n",
       "</style>\n",
       "<table border=\"1\" class=\"dataframe\">\n",
       "  <thead>\n",
       "    <tr style=\"text-align: right;\">\n",
       "      <th></th>\n",
       "      <th>Parent mountain</th>\n",
       "      <th>Parent_count</th>\n",
       "    </tr>\n",
       "  </thead>\n",
       "  <tbody>\n",
       "    <tr>\n",
       "      <th>0</th>\n",
       "      <td>Mount Everest</td>\n",
       "      <td>9</td>\n",
       "    </tr>\n",
       "    <tr>\n",
       "      <th>1</th>\n",
       "      <td>Gasherbrum I</td>\n",
       "      <td>8</td>\n",
       "    </tr>\n",
       "    <tr>\n",
       "      <th>2</th>\n",
       "      <td>Cho Oyu</td>\n",
       "      <td>7</td>\n",
       "    </tr>\n",
       "    <tr>\n",
       "      <th>3</th>\n",
       "      <td>Kangchenjunga</td>\n",
       "      <td>7</td>\n",
       "    </tr>\n",
       "    <tr>\n",
       "      <th>4</th>\n",
       "      <td>K2</td>\n",
       "      <td>5</td>\n",
       "    </tr>\n",
       "    <tr>\n",
       "      <th>5</th>\n",
       "      <td>Distaghil Sar</td>\n",
       "      <td>5</td>\n",
       "    </tr>\n",
       "    <tr>\n",
       "      <th>6</th>\n",
       "      <td>Dhaulagiri</td>\n",
       "      <td>4</td>\n",
       "    </tr>\n",
       "    <tr>\n",
       "      <th>7</th>\n",
       "      <td>Shisha Pangma</td>\n",
       "      <td>4</td>\n",
       "    </tr>\n",
       "  </tbody>\n",
       "</table>\n",
       "</div>"
      ],
      "text/plain": [
       "  Parent mountain  Parent_count\n",
       "0   Mount Everest             9\n",
       "1    Gasherbrum I             8\n",
       "2         Cho Oyu             7\n",
       "3   Kangchenjunga             7\n",
       "4              K2             5\n",
       "5   Distaghil Sar             5\n",
       "6      Dhaulagiri             4\n",
       "7   Shisha Pangma             4"
      ]
     },
     "execution_count": 5,
     "metadata": {},
     "output_type": "execute_result"
    }
   ],
   "source": [
    "Parent_mountain_count = Parent_mountain_count.to_frame( )\n",
    "Parent_mountain_count.reset_index(inplace=True)\n",
    "Parent_mountain_count.rename( columns = { 'Parent mountain': 'Parent_count' }, inplace = True )\n",
    "Parent_mountain_count.rename( columns = { 'index': 'Parent mountain' }, inplace = True )\n",
    "Parent_mountain_count"
   ]
  },
  {
   "cell_type": "code",
   "execution_count": 6,
   "metadata": {
    "collapsed": true
   },
   "outputs": [],
   "source": [
    "data = data.merge( Parent_mountain_count, how = 'left', left_on = 'Parent mountain', right_on = 'Parent mountain' )"
   ]
  },
  {
   "cell_type": "code",
   "execution_count": 10,
   "metadata": {},
   "outputs": [],
   "source": [
    "data = data[data.Parent_count > 3].copy()"
   ]
  },
  {
   "cell_type": "code",
   "execution_count": 11,
   "metadata": {},
   "outputs": [],
   "source": [
    "data.to_csv( 'Mountains_couns.csv', sep = ';', na_rep = '0', index = True )"
   ]
  },
  {
   "cell_type": "code",
   "execution_count": 9,
   "metadata": {
    "collapsed": true
   },
   "outputs": [],
   "source": []
  },
  {
   "cell_type": "code",
   "execution_count": null,
   "metadata": {
    "collapsed": true
   },
   "outputs": [],
   "source": []
  }
 ],
 "metadata": {
  "kernelspec": {
   "display_name": "Python 3",
   "language": "python",
   "name": "python3"
  },
  "language_info": {
   "codemirror_mode": {
    "name": "ipython",
    "version": 3
   },
   "file_extension": ".py",
   "mimetype": "text/x-python",
   "name": "python",
   "nbconvert_exporter": "python",
   "pygments_lexer": "ipython3",
   "version": "3.6.2"
  }
 },
 "nbformat": 4,
 "nbformat_minor": 2
}
