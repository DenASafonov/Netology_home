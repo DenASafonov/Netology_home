{
 "cells": [
  {
   "cell_type": "code",
   "execution_count": 2,
   "metadata": {},
   "outputs": [],
   "source": [
    "import requests\n",
    "from bs4 import BeautifulSoup, SoupStrainer\n",
    "import pandas as pd\n",
    "import time\n",
    "\n"
   ]
  },
  {
   "cell_type": "code",
   "execution_count": 3,
   "metadata": {
    "collapsed": true
   },
   "outputs": [],
   "source": [
    "mainurl = \"http://www.zakupki.gov.ru\"\n",
    "mainurl2 = \"/epz/order/notice/ea44/view/common-info.html?regNumber=\"\n",
    "\n",
    "df2 = pd.read_csv('OrderSearch_18.10.2017.csv',sep=\";\", encoding = 'utf-8')\n",
    "length = len(df2)\n",
    "\n"
   ]
  },
  {
   "cell_type": "code",
   "execution_count": 6,
   "metadata": {},
   "outputs": [
    {
     "data": {
      "text/html": [
       "<div>\n",
       "<style>\n",
       "    .dataframe thead tr:only-child th {\n",
       "        text-align: right;\n",
       "    }\n",
       "\n",
       "    .dataframe thead th {\n",
       "        text-align: left;\n",
       "    }\n",
       "\n",
       "    .dataframe tbody tr th {\n",
       "        vertical-align: top;\n",
       "    }\n",
       "</style>\n",
       "<table border=\"1\" class=\"dataframe\">\n",
       "  <thead>\n",
       "    <tr style=\"text-align: right;\">\n",
       "      <th></th>\n",
       "      <th>Реестровый номер закупки</th>\n",
       "    </tr>\n",
       "  </thead>\n",
       "  <tbody>\n",
       "    <tr>\n",
       "      <th>0</th>\n",
       "      <td>№0361200001217000053</td>\n",
       "    </tr>\n",
       "    <tr>\n",
       "      <th>1</th>\n",
       "      <td>№0361200015017001271</td>\n",
       "    </tr>\n",
       "    <tr>\n",
       "      <th>2</th>\n",
       "      <td>№0361200015017001185</td>\n",
       "    </tr>\n",
       "    <tr>\n",
       "      <th>3</th>\n",
       "      <td>№0361200015017001186</td>\n",
       "    </tr>\n",
       "    <tr>\n",
       "      <th>4</th>\n",
       "      <td>№0361200001216000215</td>\n",
       "    </tr>\n",
       "    <tr>\n",
       "      <th>5</th>\n",
       "      <td>№0361200001216000214</td>\n",
       "    </tr>\n",
       "    <tr>\n",
       "      <th>6</th>\n",
       "      <td>№0361200001216000212</td>\n",
       "    </tr>\n",
       "    <tr>\n",
       "      <th>7</th>\n",
       "      <td>№0361200015016002573</td>\n",
       "    </tr>\n",
       "    <tr>\n",
       "      <th>8</th>\n",
       "      <td>№0361200015016002560</td>\n",
       "    </tr>\n",
       "    <tr>\n",
       "      <th>9</th>\n",
       "      <td>№0361200015016002549</td>\n",
       "    </tr>\n",
       "  </tbody>\n",
       "</table>\n",
       "</div>"
      ],
      "text/plain": [
       "  Реестровый номер закупки\n",
       "0     №0361200001217000053\n",
       "1     №0361200015017001271\n",
       "2     №0361200015017001185\n",
       "3     №0361200015017001186\n",
       "4     №0361200001216000215\n",
       "5     №0361200001216000214\n",
       "6     №0361200001216000212\n",
       "7     №0361200015016002573\n",
       "8     №0361200015016002560\n",
       "9     №0361200015016002549"
      ]
     },
     "execution_count": 6,
     "metadata": {},
     "output_type": "execute_result"
    }
   ],
   "source": [
    "df2.head(10)"
   ]
  },
  {
   "cell_type": "code",
   "execution_count": 9,
   "metadata": {},
   "outputs": [
    {
     "data": {
      "text/plain": [
       "'http://www.zakupki.gov.ru/epz/order/notice/ea44/view/common-info.html?regNumber=0361200001216000214'"
      ]
     },
     "execution_count": 9,
     "metadata": {},
     "output_type": "execute_result"
    }
   ],
   "source": [
    "    i = 5\n",
    "    a = df2['Реестровый номер закупки'][i]\n",
    "    a = a[1:]\n",
    "    rurl = mainurl+mainurl2+a\n",
    "    rurl\n"
   ]
  },
  {
   "cell_type": "code",
   "execution_count": 12,
   "metadata": {},
   "outputs": [],
   "source": [
    "rurl1 = 'http://www.zakupki.gov.ru/epz/order/notice/ea44/view/common-info.html?regNumber=0361200001217000053'"
   ]
  },
  {
   "cell_type": "code",
   "execution_count": 14,
   "metadata": {
    "collapsed": true
   },
   "outputs": [],
   "source": [
    "rr = 'http://www.zakupki.gov.ru/epz/order/notice/printForm/view.html?printFormId=48650245'"
   ]
  },
  {
   "cell_type": "code",
   "execution_count": 15,
   "metadata": {},
   "outputs": [
    {
     "data": {
      "text/plain": [
       "<Response [200]>"
      ]
     },
     "execution_count": 15,
     "metadata": {},
     "output_type": "execute_result"
    }
   ],
   "source": [
    "    r = requests.get(rr)\n",
    "    r"
   ]
  },
  {
   "cell_type": "code",
   "execution_count": null,
   "metadata": {
    "collapsed": true
   },
   "outputs": [],
   "source": [
    "    i+=1\n",
    "    if r.status_code == 404 or r.status_code == 403:\n",
    "        i-=1\n",
    "    #    continue\n",
    "    soup = BeautifulSoup(r.content, 'html.parser', parse_only=SoupStrainer('a'))\n",
    "    link = ([link['href'] for link in soup if link.has_attr('href')])\n",
    "    print(link)\n",
    "    url2 = (mainurl + link[1])\n",
    "    tables = pd.read_html(url2)\n",
    "    print(tables[1])"
   ]
  },
  {
   "cell_type": "code",
   "execution_count": null,
   "metadata": {
    "collapsed": true
   },
   "outputs": [],
   "source": [
    "i = 0\n",
    "while i < length:\n",
    "\n",
    "    time.sleep(3)\n",
    "\n",
    "    a = df2['Реестровый номер закупки'][i]\n",
    "    a = a[1:]\n",
    "    print(mainurl+mainurl2+a)\n",
    "    r = requests.get(mainurl+mainurl2+a)\n",
    "    print(r)\n",
    "    i+=1\n",
    "    if r.status_code == 404 or r.status_code == 403:\n",
    "        i-=1\n",
    "        continue\n",
    "    soup = BeautifulSoup(r.content, 'html.parser', parse_only=SoupStrainer('a'))\n",
    "    link = ([link['href'] for link in soup if link.has_attr('href')])\n",
    "    print(link)\n",
    "    url2 = (mainurl + link[1])\n",
    "    tables = pd.read_html(url2)\n",
    "    print(tables[1])"
   ]
  }
 ],
 "metadata": {
  "kernelspec": {
   "display_name": "Python 3",
   "language": "python",
   "name": "python3"
  },
  "language_info": {
   "codemirror_mode": {
    "name": "ipython",
    "version": 3
   },
   "file_extension": ".py",
   "mimetype": "text/x-python",
   "name": "python",
   "nbconvert_exporter": "python",
   "pygments_lexer": "ipython3",
   "version": "3.6.2"
  }
 },
 "nbformat": 4,
 "nbformat_minor": 2
}
