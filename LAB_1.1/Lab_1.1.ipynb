{
 "cells": [
  {
   "cell_type": "markdown",
   "metadata": {},
   "source": [
    "1.Забираем Макбук у жены  \n",
    "2.Ставим Юпитер ноутбук  \n",
    "3.Скачиваем mrec  \n",
    "4.cd mrec  \n",
    "5.sudo -H python3 setup.py install --install-scripts sbin  \n",
    "6.Качаем датасет: https://grouplens.org/datasets/movielens/100k/  \n",
    "7.Смотрим на таблички:        "
   ]
  },
  {
   "cell_type": "code",
   "execution_count": 2,
   "metadata": {
    "collapsed": true
   },
   "outputs": [],
   "source": [
    "import pandas as pd\n",
    "import mrec"
   ]
  },
  {
   "cell_type": "code",
   "execution_count": 3,
   "metadata": {
    "collapsed": true
   },
   "outputs": [],
   "source": [
    "'''\n",
    "u.data     -- user id | item id | rating | timestamp. \n",
    "              The time stamps are unix seconds since 1/1/1970 UTC  '''\n",
    "data = pd.read_csv(\"ml-100k/u.data\", sep=\"\\t\", header=None, index_col=0)\n",
    "data.columns = [\"item id\" , \"rating\" , \"timestamp\"]"
   ]
  },
  {
   "cell_type": "code",
   "execution_count": 4,
   "metadata": {},
   "outputs": [
    {
     "data": {
      "text/html": [
       "<div>\n",
       "<style>\n",
       "    .dataframe thead tr:only-child th {\n",
       "        text-align: right;\n",
       "    }\n",
       "\n",
       "    .dataframe thead th {\n",
       "        text-align: left;\n",
       "    }\n",
       "\n",
       "    .dataframe tbody tr th {\n",
       "        vertical-align: top;\n",
       "    }\n",
       "</style>\n",
       "<table border=\"1\" class=\"dataframe\">\n",
       "  <thead>\n",
       "    <tr style=\"text-align: right;\">\n",
       "      <th></th>\n",
       "      <th>item id</th>\n",
       "      <th>rating</th>\n",
       "      <th>timestamp</th>\n",
       "    </tr>\n",
       "    <tr>\n",
       "      <th>0</th>\n",
       "      <th></th>\n",
       "      <th></th>\n",
       "      <th></th>\n",
       "    </tr>\n",
       "  </thead>\n",
       "  <tbody>\n",
       "    <tr>\n",
       "      <th>196</th>\n",
       "      <td>242</td>\n",
       "      <td>3</td>\n",
       "      <td>881250949</td>\n",
       "    </tr>\n",
       "    <tr>\n",
       "      <th>186</th>\n",
       "      <td>302</td>\n",
       "      <td>3</td>\n",
       "      <td>891717742</td>\n",
       "    </tr>\n",
       "    <tr>\n",
       "      <th>22</th>\n",
       "      <td>377</td>\n",
       "      <td>1</td>\n",
       "      <td>878887116</td>\n",
       "    </tr>\n",
       "  </tbody>\n",
       "</table>\n",
       "</div>"
      ],
      "text/plain": [
       "     item id  rating  timestamp\n",
       "0                              \n",
       "196      242       3  881250949\n",
       "186      302       3  891717742\n",
       "22       377       1  878887116"
      ]
     },
     "execution_count": 4,
     "metadata": {},
     "output_type": "execute_result"
    }
   ],
   "source": [
    "data.head(3)"
   ]
  },
  {
   "cell_type": "code",
   "execution_count": 5,
   "metadata": {},
   "outputs": [
    {
     "data": {
      "text/html": [
       "<div>\n",
       "<style>\n",
       "    .dataframe thead tr:only-child th {\n",
       "        text-align: right;\n",
       "    }\n",
       "\n",
       "    .dataframe thead th {\n",
       "        text-align: left;\n",
       "    }\n",
       "\n",
       "    .dataframe tbody tr th {\n",
       "        vertical-align: top;\n",
       "    }\n",
       "</style>\n",
       "<table border=\"1\" class=\"dataframe\">\n",
       "  <thead>\n",
       "    <tr style=\"text-align: right;\">\n",
       "      <th></th>\n",
       "      <th>movie id</th>\n",
       "      <th>movie title</th>\n",
       "      <th>release date</th>\n",
       "      <th>video release date</th>\n",
       "      <th>IMDb URL</th>\n",
       "      <th>unknown</th>\n",
       "      <th>Action</th>\n",
       "      <th>Adventure</th>\n",
       "      <th>Animation</th>\n",
       "      <th>Children's</th>\n",
       "      <th>...</th>\n",
       "      <th>Fantasy</th>\n",
       "      <th>Film-Noir</th>\n",
       "      <th>Horror</th>\n",
       "      <th>Musical</th>\n",
       "      <th>Mystery</th>\n",
       "      <th>Romance</th>\n",
       "      <th>Sci-Fi</th>\n",
       "      <th>Thriller</th>\n",
       "      <th>War</th>\n",
       "      <th>Western</th>\n",
       "    </tr>\n",
       "  </thead>\n",
       "  <tbody>\n",
       "    <tr>\n",
       "      <th>0</th>\n",
       "      <td>1</td>\n",
       "      <td>Toy Story (1995)</td>\n",
       "      <td>01-Jan-1995</td>\n",
       "      <td>NaN</td>\n",
       "      <td>http://us.imdb.com/M/title-exact?Toy%20Story%2...</td>\n",
       "      <td>0</td>\n",
       "      <td>0</td>\n",
       "      <td>0</td>\n",
       "      <td>1</td>\n",
       "      <td>1</td>\n",
       "      <td>...</td>\n",
       "      <td>0</td>\n",
       "      <td>0</td>\n",
       "      <td>0</td>\n",
       "      <td>0</td>\n",
       "      <td>0</td>\n",
       "      <td>0</td>\n",
       "      <td>0</td>\n",
       "      <td>0</td>\n",
       "      <td>0</td>\n",
       "      <td>0</td>\n",
       "    </tr>\n",
       "    <tr>\n",
       "      <th>1</th>\n",
       "      <td>2</td>\n",
       "      <td>GoldenEye (1995)</td>\n",
       "      <td>01-Jan-1995</td>\n",
       "      <td>NaN</td>\n",
       "      <td>http://us.imdb.com/M/title-exact?GoldenEye%20(...</td>\n",
       "      <td>0</td>\n",
       "      <td>1</td>\n",
       "      <td>1</td>\n",
       "      <td>0</td>\n",
       "      <td>0</td>\n",
       "      <td>...</td>\n",
       "      <td>0</td>\n",
       "      <td>0</td>\n",
       "      <td>0</td>\n",
       "      <td>0</td>\n",
       "      <td>0</td>\n",
       "      <td>0</td>\n",
       "      <td>0</td>\n",
       "      <td>1</td>\n",
       "      <td>0</td>\n",
       "      <td>0</td>\n",
       "    </tr>\n",
       "    <tr>\n",
       "      <th>2</th>\n",
       "      <td>3</td>\n",
       "      <td>Four Rooms (1995)</td>\n",
       "      <td>01-Jan-1995</td>\n",
       "      <td>NaN</td>\n",
       "      <td>http://us.imdb.com/M/title-exact?Four%20Rooms%...</td>\n",
       "      <td>0</td>\n",
       "      <td>0</td>\n",
       "      <td>0</td>\n",
       "      <td>0</td>\n",
       "      <td>0</td>\n",
       "      <td>...</td>\n",
       "      <td>0</td>\n",
       "      <td>0</td>\n",
       "      <td>0</td>\n",
       "      <td>0</td>\n",
       "      <td>0</td>\n",
       "      <td>0</td>\n",
       "      <td>0</td>\n",
       "      <td>1</td>\n",
       "      <td>0</td>\n",
       "      <td>0</td>\n",
       "    </tr>\n",
       "  </tbody>\n",
       "</table>\n",
       "<p>3 rows × 24 columns</p>\n",
       "</div>"
      ],
      "text/plain": [
       "   movie id        movie title release date  video release date  \\\n",
       "0         1   Toy Story (1995)  01-Jan-1995                 NaN   \n",
       "1         2   GoldenEye (1995)  01-Jan-1995                 NaN   \n",
       "2         3  Four Rooms (1995)  01-Jan-1995                 NaN   \n",
       "\n",
       "                                            IMDb URL  unknown  Action  \\\n",
       "0  http://us.imdb.com/M/title-exact?Toy%20Story%2...        0       0   \n",
       "1  http://us.imdb.com/M/title-exact?GoldenEye%20(...        0       1   \n",
       "2  http://us.imdb.com/M/title-exact?Four%20Rooms%...        0       0   \n",
       "\n",
       "   Adventure  Animation  Children's   ...     Fantasy  Film-Noir  Horror  \\\n",
       "0          0          1           1   ...           0          0       0   \n",
       "1          1          0           0   ...           0          0       0   \n",
       "2          0          0           0   ...           0          0       0   \n",
       "\n",
       "   Musical  Mystery  Romance  Sci-Fi  Thriller  War  Western  \n",
       "0        0        0        0       0         0    0        0  \n",
       "1        0        0        0       0         1    0        0  \n",
       "2        0        0        0       0         1    0        0  \n",
       "\n",
       "[3 rows x 24 columns]"
      ]
     },
     "execution_count": 5,
     "metadata": {},
     "output_type": "execute_result"
    }
   ],
   "source": [
    "'''\n",
    "u.item     -- movie id | movie title | release date | video release date |\n",
    "              IMDb URL | unknown | Action | Adventure | Animation |\n",
    "              Children's | Comedy | Crime | Documentary | Drama | Fantasy |\n",
    "              Film-Noir | Horror | Musical | Mystery | Romance | Sci-Fi |\n",
    "              Thriller | War | Western |\n",
    "'''\n",
    "item = pd.read_csv(\"ml-100k/u.item\", sep=\"|\", header=None, index_col=None,  encoding = \"ISO-8859-1\")\n",
    "item.columns = [\"movie id\", \"movie title\" , \"release date\" , \"video release date\" ,\n",
    "              \"IMDb URL\" , \"unknown\" , \"Action\" , \"Adventure\" , \"Animation\" ,\n",
    "              \"Children's\" , \"Comedy\" ,\"Crime\" ,\"Documentary\" , \"Drama\" , \"Fantasy\" ,\n",
    "              \"Film-Noir\" , \"Horror\" , \"Musical\" , \"Mystery\" , \"Romance\" , \"Sci-Fi\" ,\n",
    "              \"Thriller\" , \"War\" , \"Western\"]\n",
    "item.head(3)"
   ]
  },
  {
   "cell_type": "markdown",
   "metadata": {},
   "source": [
    "8.Готовим данные:"
   ]
  },
  {
   "cell_type": "code",
   "execution_count": null,
   "metadata": {
    "collapsed": true
   },
   "outputs": [],
   "source": [
    "!sbin/mrec_prepare \n",
    "    --dataset /Users/oksana/Documents/Денис_ХАРД/Jupiter/Lab1.1/ml-100k/u.data \n",
    "    --outdir /Users/oksana/Documents/Денис_ХАРД/Jupiter/Lab1.1/splits \n",
    "    --rating_thresh 4 \n",
    "    --test_size 0.5 \n",
    "    --binarize"
   ]
  },
  {
   "cell_type": "markdown",
   "metadata": {},
   "source": [
    "[2017-12-03 01:12:53,159] INFO: sorting input data...  \n",
    "[2017-12-03 01:12:53,228] INFO: creating split 0: /Users/oksana/Documents/Денис_ХАРД/Jupiter/Lab1.1/splits/u.data.train.0 /Users/oksana/Documents/Денис_ХАРД/Jupiter/Lab1.1/splits/u.data.test.0  \n",
    "[2017-12-03 01:12:53,701] INFO: creating split 1: /Users/oksana/Documents/Денис_ХАРД/Jupiter/Lab1.1/splits/u.data.train.1 /Users/oksana/Documents/Денис_ХАРД/Jupiter/Lab1.1/splits/u.data.test.1  \n",
    "[2017-12-03 01:12:54,140] INFO: creating split 2: /Users/oksana/Documents/Денис_ХАРД/Jupiter/Lab1.1/splits/u.data.train.2 /Users/oksana/Documents/Денис_ХАРД/Jupiter/Lab1.1/splits/u.data.test.2  \n",
    "[2017-12-03 01:12:54,582] INFO: creating split 3: /Users/oksana/Documents/Денис_ХАРД/Jupiter/Lab1.1/splits/u.data.train.3 /Users/oksana/Documents/Денис_ХАРД/Jupiter/Lab1.1/splits/u.data.test.3  \n",
    "[2017-12-03 01:12:55,023] INFO: creating split 4: /Users/oksana/Documents/Денис_ХАРД/Jupiter/Lab1.1/splits/u.data.train.4 /Users/oksana/Documents/Денис_ХАРД/Jupiter/Lab1.1/splits/u.data.test.4  \n",
    "[2017-12-03 01:12:55,462] INFO: cleaning up...  \n",
    "[2017-12-03 01:12:55,467] INFO: done  "
   ]
  },
  {
   "cell_type": "markdown",
   "metadata": {},
   "source": [
    "9.Обучение"
   ]
  },
  {
   "cell_type": "code",
   "execution_count": null,
   "metadata": {
    "collapsed": true
   },
   "outputs": [],
   "source": [
    "!sbin/mrec_train -n4 \n",
    "    --input_format tsv \n",
    "    --train \"/Users/oksana/Documents/Денис_ХАРД/Jupiter/Lab1.1/splits/u.data.train.*\" \n",
    "    --outdir /Users/oksana/Documents/Денис_ХАРД/Jupiter/Lab1.1/models"
   ]
  },
  {
   "cell_type": "markdown",
   "metadata": {},
   "source": [
    "[2017-12-03 01:21:32,716] INFO: processing /Users/oksana/Documents/Денис_ХАРД/Jupiter/Lab1.1/splits/u.data.train.0...  \n",
    "[2017-12-03 01:21:32,716] INFO: finding number of items...  \n",
    "[2017-12-03 01:21:33,226] INFO: 943 users and 1682 items  \n",
    "[2017-12-03 01:21:33,226] INFO: creating sims directory /Users/oksana/Documents/Денис_ХАРД/Jupiter/Lab1.1/models/u.data.train.0-sims...  \n",
    "[2017-12-03 01:21:33,230] INFO: checking for existing output sims...  \n",
    "[2017-12-03 01:21:33,231] INFO: creating tasks...  \n",
    "[2017-12-03 01:21:33,240] INFO: running 4 tasks in parallel across ipython engines...  \n",
    "[2017-12-03 01:21:36,578] INFO: checking output files...  \n",
    "[2017-12-03 01:21:36,579] INFO: SUCCESS: all tasks completed  \n",
    "[2017-12-03 01:21:36,579] INFO: concatenating 4 partial output files...\n",
    "[2017-12-03 01:21:36,614] INFO: removing partial output files...  \n",
    "[2017-12-03 01:21:36,615] INFO: loading 1682 items in SLIM model from /Users/oksana/Documents/Денис_ХАРД/Jupiter/Lab1.1/models/u.data.train.0.sims.tsv  \n",
    "[2017-12-03 01:21:37,568] INFO: done  \n",
    "[2017-12-03 01:21:37,568] INFO: processing /Users/oksana/Documents/Денис_ХАРД/Jupiter/Lab1.1/splits/u.data.train.1...  \n",
    "[2017-12-03 01:21:37,568] INFO: finding number of items...  \n",
    "[2017-12-03 01:21:38,063] INFO: 943 users and 1682 items  \n",
    "[2017-12-03 01:21:38,063] INFO: creating sims directory /Users/oksana/Documents/Денис_ХАРД/Jupiter/Lab1.1/models/u.data.train.1-sims...  \n",
    "[2017-12-03 01:21:38,067] INFO: checking for existing output sims...  \n",
    "[2017-12-03 01:21:38,068] INFO: creating tasks...  \n",
    "[2017-12-03 01:21:38,068] INFO: running 4 tasks in parallel across ipython engines...  \n",
    "[2017-12-03 01:21:40,471] INFO: checking output files...  \n",
    "[2017-12-03 01:21:40,471] INFO: SUCCESS: all tasks completed  \n",
    "[2017-12-03 01:21:40,471] INFO: concatenating 4 partial output files...  \n",
    "[2017-12-03 01:21:40,479] INFO: removing partial output files...  \n",
    "[2017-12-03 01:21:40,481] INFO: loading 1682 items in SLIM model from /Users/oksana/Documents/Денис_ХАРД/Jupiter/Lab1.1/models/u.data.train.1.sims.tsv  \n",
    "[2017-12-03 01:21:41,371] INFO: done  \n",
    "[2017-12-03 01:21:41,371] INFO: processing /Users/oksana/Documents/Денис_ХАРД/Jupiter/Lab1.1/splits/u.data.train.2...  \n",
    "[2017-12-03 01:21:41,371] INFO: finding number of items...  \n",
    "[2017-12-03 01:21:41,906] INFO: 943 users and 1682 items  \n",
    "[2017-12-03 01:21:41,906] INFO: creating sims directory /Users/oksana/Documents/Денис_ХАРД/Jupiter/Lab1.1/models/u.data.train.2-sims...  \n",
    "[2017-12-03 01:21:41,910] INFO: checking for existing output sims...  \n",
    "[2017-12-03 01:21:41,910] INFO: creating tasks...  \n",
    "[2017-12-03 01:21:41,910] INFO: running 4 tasks in parallel across ipython engines...  \n",
    "[2017-12-03 01:21:44,309] INFO: checking output files...  \n",
    "[2017-12-03 01:21:44,310] INFO: SUCCESS: all tasks completed  \n",
    "[2017-12-03 01:21:44,310] INFO: concatenating 4 partial output files...  \n",
    "[2017-12-03 01:21:44,318] INFO: removing partial output files...  \n",
    "[2017-12-03 01:21:44,320] INFO: loading 1682 items in SLIM model from /Users/oksana/Documents/Денис_ХАРД/Jupiter/Lab1.1/models/u.data.train.2.sims.tsv  \n",
    "[2017-12-03 01:21:45,230] INFO: done  \n",
    "[2017-12-03 01:21:45,230] INFO: processing /Users/oksana/Documents/Денис_ХАРД/Jupiter/Lab1.1/splits/u.data.train.3...  \n",
    "[2017-12-03 01:21:45,230] INFO: finding number of items...  \n",
    "[2017-12-03 01:21:45,694] INFO: 943 users and 1682 items  \n",
    "[2017-12-03 01:21:45,694] INFO: creating sims directory /Users/oksana/Documents/Денис_ХАРД/Jupiter/Lab1.1/models/u.data.train.3-sims...  \n",
    "[2017-12-03 01:21:45,698] INFO: checking for existing output sims...  \n",
    "[2017-12-03 01:21:45,699] INFO: creating tasks...  \n",
    "[2017-12-03 01:21:45,699] INFO: running 4 tasks in parallel across ipython engines...  \n",
    "[2017-12-03 01:21:48,098] INFO: checking output files...  \n",
    "[2017-12-03 01:21:48,099] INFO: SUCCESS: all tasks completed  \n",
    "[2017-12-03 01:21:48,099] INFO: concatenating 4 partial output files...  \n",
    "[2017-12-03 01:21:48,107] INFO: removing partial output files...  \n",
    "[2017-12-03 01:21:48,108] INFO: loading 1682 items in SLIM model from /Users/oksana/Documents/Денис_ХАРД/Jupiter/Lab1.1/models/u.data.train.3.sims.tsv  \n",
    "[2017-12-03 01:21:49,024] INFO: done  \n",
    "[2017-12-03 01:21:49,024] INFO: processing /Users/oksana/Documents/Денис_ХАРД/Jupiter/Lab1.1/splits/u.data.train.4...  \n",
    "[2017-12-03 01:21:49,024] INFO: finding number of items...  \n",
    "[2017-12-03 01:21:49,494] INFO: 943 users and 1681 items  \n",
    "[2017-12-03 01:21:49,494] INFO: creating sims directory /Users/oksana/Documents/Денис_ХАРД/Jupiter/Lab1.1/models/u.data.train.4-sims...  \n",
    "[2017-12-03 01:21:49,498] INFO: checking for existing output sims...  \n",
    "[2017-12-03 01:21:49,499] INFO: creating tasks...  \n",
    "[2017-12-03 01:21:49,499] INFO: running 4 tasks in parallel across ipython engines...  \n",
    "[2017-12-03 01:21:51,876] INFO: checking output files...  \n",
    "[2017-12-03 01:21:51,877] INFO: SUCCESS: all tasks completed  \n",
    "[2017-12-03 01:21:51,877] INFO: concatenating 4 partial output files...  \n",
    "[2017-12-03 01:21:51,885] INFO: removing partial output files...  \n",
    "[2017-12-03 01:21:51,886] INFO: loading 1681 items in SLIM model from /Users/oksana/Documents/Денис_ХАРД/Jupiter/Lab1.1/models/u.data.train.4.sims.tsv  \n",
    "[2017-12-03 01:21:52,790] INFO: done  "
   ]
  },
  {
   "cell_type": "markdown",
   "metadata": {},
   "source": [
    "10.Предсказание"
   ]
  },
  {
   "cell_type": "code",
   "execution_count": null,
   "metadata": {
    "collapsed": true
   },
   "outputs": [],
   "source": [
    "!sbin/mrec_predict \n",
    "    --input_format tsv \n",
    "    --test_input_format tsv \n",
    "    --train \"/Users/oksana/Documents/Денис_ХАРД/Jupiter/Lab1.1/splits/u.data.train.*\" \n",
    "    --modeldir /Users/oksana/Documents/Денис_ХАРД/Jupiter/Lab1.1/models \n",
    "    --outdir /Users/oksana/Documents/Денис_ХАРД/Jupiter/Lab1.1/recs"
   ]
  },
  {
   "cell_type": "code",
   "execution_count": null,
   "metadata": {
    "collapsed": true
   },
   "outputs": [],
   "source": [
    "[2017-12-03 01:28:13,972] INFO: processing /Users/oksana/Documents/Денис_ХАРД/Jupiter/Lab1.1/splits/u.data.train.0...\n",
    "[2017-12-03 01:28:13,972] INFO: creating recs directory /Users/oksana/Documents/Денис_ХАРД/Jupiter/Lab1.1/recs/u.data.train.0-recs...\n",
    "[2017-12-03 01:28:13,996] INFO: checking for existing output recs...\n",
    "[2017-12-03 01:28:13,996] INFO: creating tasks...\n",
    "[2017-12-03 01:28:13,996] INFO: loading dataset to get size...\n",
    "[2017-12-03 01:28:14,473] INFO: loading model to get size...\n",
    "[2017-12-03 01:28:14,906] INFO: created 1 tasks, 24422 users per task\n",
    "[2017-12-03 01:28:14,906] INFO: running in parallel across ipython engines...\n",
    "[2017-12-03 01:28:17,080] INFO: checking output files...\n",
    "[2017-12-03 01:28:17,080] INFO: SUCCESS: all tasks completed\n",
    "[2017-12-03 01:28:17,080] INFO: concatenating 1 partial output files...\n",
    "[2017-12-03 01:28:17,094] INFO: removing partial output files...\n",
    "[2017-12-03 01:28:17,095] INFO: done\n",
    "[2017-12-03 01:28:17,097] INFO: processing /Users/oksana/Documents/Денис_ХАРД/Jupiter/Lab1.1/splits/u.data.train.1...\n",
    "[2017-12-03 01:28:17,097] INFO: creating recs directory /Users/oksana/Documents/Денис_ХАРД/Jupiter/Lab1.1/recs/u.data.train.1-recs...\n",
    "[2017-12-03 01:28:17,100] INFO: checking for existing output recs...\n",
    "[2017-12-03 01:28:17,101] INFO: creating tasks...\n",
    "[2017-12-03 01:28:17,101] INFO: loading dataset to get size...\n",
    "[2017-12-03 01:28:17,572] INFO: loading model to get size...\n",
    "[2017-12-03 01:28:17,630] INFO: created 1 tasks, 24948 users per task\n",
    "[2017-12-03 01:28:17,630] INFO: running in parallel across ipython engines...\n",
    "[2017-12-03 01:28:19,670] INFO: checking output files...\n",
    "[2017-12-03 01:28:19,670] INFO: SUCCESS: all tasks completed\n",
    "[2017-12-03 01:28:19,670] INFO: concatenating 1 partial output files...\n",
    "[2017-12-03 01:28:19,675] INFO: removing partial output files...\n",
    "[2017-12-03 01:28:19,676] INFO: done\n",
    "[2017-12-03 01:28:19,679] INFO: processing /Users/oksana/Documents/Денис_ХАРД/Jupiter/Lab1.1/splits/u.data.train.2...\n",
    "[2017-12-03 01:28:19,679] INFO: creating recs directory /Users/oksana/Documents/Денис_ХАРД/Jupiter/Lab1.1/recs/u.data.train.2-recs...\n",
    "[2017-12-03 01:28:19,684] INFO: checking for existing output recs...\n",
    "[2017-12-03 01:28:19,685] INFO: creating tasks...\n",
    "[2017-12-03 01:28:19,685] INFO: loading dataset to get size...\n",
    "[2017-12-03 01:28:20,154] INFO: loading model to get size...\n",
    "[2017-12-03 01:28:20,215] INFO: created 1 tasks, 24680 users per task\n",
    "[2017-12-03 01:28:20,215] INFO: running in parallel across ipython engines...\n",
    "[2017-12-03 01:28:22,273] INFO: checking output files...\n",
    "[2017-12-03 01:28:22,273] INFO: SUCCESS: all tasks completed\n",
    "[2017-12-03 01:28:22,273] INFO: concatenating 1 partial output files...\n",
    "[2017-12-03 01:28:22,279] INFO: removing partial output files...\n",
    "[2017-12-03 01:28:22,279] INFO: done\n",
    "[2017-12-03 01:28:22,281] INFO: processing /Users/oksana/Documents/Денис_ХАРД/Jupiter/Lab1.1/splits/u.data.train.3...\n",
    "[2017-12-03 01:28:22,281] INFO: creating recs directory /Users/oksana/Documents/Денис_ХАРД/Jupiter/Lab1.1/recs/u.data.train.3-recs...\n",
    "[2017-12-03 01:28:22,301] INFO: checking for existing output recs...\n",
    "[2017-12-03 01:28:22,302] INFO: creating tasks...\n",
    "[2017-12-03 01:28:22,302] INFO: loading dataset to get size...\n",
    "[2017-12-03 01:28:22,788] INFO: loading model to get size...\n",
    "[2017-12-03 01:28:22,843] INFO: created 1 tasks, 25104 users per task\n",
    "[2017-12-03 01:28:22,843] INFO: running in parallel across ipython engines...\n",
    "[2017-12-03 01:28:24,878] INFO: checking output files...\n",
    "[2017-12-03 01:28:24,878] INFO: SUCCESS: all tasks completed\n",
    "[2017-12-03 01:28:24,878] INFO: concatenating 1 partial output files...\n",
    "[2017-12-03 01:28:24,884] INFO: removing partial output files...\n",
    "[2017-12-03 01:28:24,885] INFO: done\n",
    "[2017-12-03 01:28:24,886] INFO: processing /Users/oksana/Documents/Денис_ХАРД/Jupiter/Lab1.1/splits/u.data.train.4...\n",
    "[2017-12-03 01:28:24,886] INFO: creating recs directory /Users/oksana/Documents/Денис_ХАРД/Jupiter/Lab1.1/recs/u.data.train.4-recs...\n",
    "[2017-12-03 01:28:24,890] INFO: checking for existing output recs...\n",
    "[2017-12-03 01:28:24,890] INFO: creating tasks...\n",
    "[2017-12-03 01:28:24,890] INFO: loading dataset to get size...\n",
    "[2017-12-03 01:28:25,354] INFO: loading model to get size...\n",
    "[2017-12-03 01:28:25,410] INFO: created 1 tasks, 24713 users per task\n",
    "[2017-12-03 01:28:25,410] INFO: running in parallel across ipython engines...\n",
    "[2017-12-03 01:28:27,497] INFO: checking output files...\n",
    "[2017-12-03 01:28:27,497] INFO: SUCCESS: all tasks completed\n",
    "[2017-12-03 01:28:27,497] INFO: concatenating 1 partial output files...\n",
    "[2017-12-03 01:28:27,502] INFO: removing partial output files...\n",
    "[2017-12-03 01:28:27,503] INFO: done\n",
    "SLIM(SGDRegressor(alpha=0.0011, average=False, epsilon=0.1, eta0=0.01,\n",
    "       fit_intercept=False, l1_ratio=0.9090909090909091,\n",
    "       learning_rate='invscaling', loss='squared_loss', max_iter=None,\n",
    "       n_iter=None, penalty='elasticnet', power_t=0.25, random_state=None,\n",
    "       shuffle=True, tol=None, verbose=0, warm_start=False))\n",
    "mrr            0.6783 +/- 0.0048\n",
    "prec@5         0.4359 +/- 0.0004\n",
    "prec@10        0.3773 +/- 0.0013\n",
    "prec@15        0.3403 +/- 0.0011\n",
    "prec@20        0.3126 +/- 0.0008"
   ]
  },
  {
   "cell_type": "markdown",
   "metadata": {},
   "source": [
    "11.Обучение KNN"
   ]
  },
  {
   "cell_type": "code",
   "execution_count": null,
   "metadata": {
    "collapsed": true
   },
   "outputs": [],
   "source": [
    "!sbin/mrec_train \n",
    "    --model=knn -n4 \n",
    "    --input_format tsv \n",
    "    --train \"/Users/oksana/Documents/Денис_ХАРД/Jupiter/Lab1.1/splits/u.data.train.*\" \n",
    "    --outdir /Users/oksana/Documents/Денис_ХАРД/Jupiter/Lab1.1/model_KNN"
   ]
  },
  {
   "cell_type": "code",
   "execution_count": null,
   "metadata": {
    "collapsed": true
   },
   "outputs": [],
   "source": [
    "[2017-12-03 22:31:11,414] INFO: processing /Users/oksana/Documents/Денис_ХАРД/Jupiter/Lab1.1/splits/u.data.train.0...\n",
    "[2017-12-03 22:31:11,414] INFO: finding number of items...\n",
    "[2017-12-03 22:31:11,939] INFO: 943 users and 1682 items\n",
    "[2017-12-03 22:31:11,939] INFO: creating sims directory /Users/oksana/Documents/Денис_ХАРД/Jupiter/Lab1.1/model_KNN/u.data.train.0-sims...\n",
    "[2017-12-03 22:31:11,949] INFO: checking for existing output sims...\n",
    "[2017-12-03 22:31:11,950] INFO: creating tasks...\n",
    "[2017-12-03 22:31:11,950] INFO: running 4 tasks in parallel across ipython engines...\n",
    "[2017-12-03 22:31:13,751] INFO: checking output files...\n",
    "[2017-12-03 22:31:13,752] INFO: SUCCESS: all tasks completed\n",
    "[2017-12-03 22:31:13,752] INFO: concatenating 4 partial output files...\n",
    "[2017-12-03 22:31:13,781] INFO: removing partial output files...\n",
    "[2017-12-03 22:31:13,783] INFO: loading 1682 items in CosineKNNRecommender model from /Users/oksana/Documents/Денис_ХАРД/Jupiter/Lab1.1/model_KNN/u.data.train.0.sims.tsv\n",
    "[2017-12-03 22:31:15,032] INFO: done\n",
    "[2017-12-03 22:31:15,032] INFO: processing /Users/oksana/Documents/Денис_ХАРД/Jupiter/Lab1.1/splits/u.data.train.1...\n",
    "[2017-12-03 22:31:15,032] INFO: finding number of items...\n",
    "[2017-12-03 22:31:15,512] INFO: 943 users and 1682 items\n",
    "[2017-12-03 22:31:15,512] INFO: creating sims directory /Users/oksana/Documents/Денис_ХАРД/Jupiter/Lab1.1/model_KNN/u.data.train.1-sims...\n",
    "[2017-12-03 22:31:15,517] INFO: checking for existing output sims...\n",
    "[2017-12-03 22:31:15,517] INFO: creating tasks...\n",
    "[2017-12-03 22:31:15,517] INFO: running 4 tasks in parallel across ipython engines...\n",
    "[2017-12-03 22:31:17,291] INFO: checking output files...\n",
    "[2017-12-03 22:31:17,291] INFO: SUCCESS: all tasks completed\n",
    "[2017-12-03 22:31:17,291] INFO: concatenating 4 partial output files...\n",
    "[2017-12-03 22:31:17,300] INFO: removing partial output files...\n",
    "[2017-12-03 22:31:17,302] INFO: loading 1682 items in CosineKNNRecommender model from /Users/oksana/Documents/Денис_ХАРД/Jupiter/Lab1.1/model_KNN/u.data.train.1.sims.tsv\n",
    "[2017-12-03 22:31:18,557] INFO: done\n",
    "[2017-12-03 22:31:18,557] INFO: processing /Users/oksana/Documents/Денис_ХАРД/Jupiter/Lab1.1/splits/u.data.train.2...\n",
    "[2017-12-03 22:31:18,557] INFO: finding number of items...\n",
    "[2017-12-03 22:31:19,063] INFO: 943 users and 1682 items\n",
    "[2017-12-03 22:31:19,063] INFO: creating sims directory /Users/oksana/Documents/Денис_ХАРД/Jupiter/Lab1.1/model_KNN/u.data.train.2-sims...\n",
    "[2017-12-03 22:31:19,067] INFO: checking for existing output sims...\n",
    "[2017-12-03 22:31:19,068] INFO: creating tasks...\n",
    "[2017-12-03 22:31:19,068] INFO: running 4 tasks in parallel across ipython engines...\n",
    "[2017-12-03 22:31:20,829] INFO: checking output files...\n",
    "[2017-12-03 22:31:20,829] INFO: SUCCESS: all tasks completed\n",
    "[2017-12-03 22:31:20,829] INFO: concatenating 4 partial output files...\n",
    "[2017-12-03 22:31:20,840] INFO: removing partial output files...\n",
    "[2017-12-03 22:31:20,841] INFO: loading 1682 items in CosineKNNRecommender model from /Users/oksana/Documents/Денис_ХАРД/Jupiter/Lab1.1/model_KNN/u.data.train.2.sims.tsv\n",
    "[2017-12-03 22:31:22,109] INFO: done\n",
    "[2017-12-03 22:31:22,110] INFO: processing /Users/oksana/Documents/Денис_ХАРД/Jupiter/Lab1.1/splits/u.data.train.3...\n",
    "[2017-12-03 22:31:22,110] INFO: finding number of items...\n",
    "[2017-12-03 22:31:22,617] INFO: 943 users and 1682 items\n",
    "[2017-12-03 22:31:22,618] INFO: creating sims directory /Users/oksana/Documents/Денис_ХАРД/Jupiter/Lab1.1/model_KNN/u.data.train.3-sims...\n",
    "[2017-12-03 22:31:22,622] INFO: checking for existing output sims...\n",
    "[2017-12-03 22:31:22,622] INFO: creating tasks...\n",
    "[2017-12-03 22:31:22,622] INFO: running 4 tasks in parallel across ipython engines...\n",
    "[2017-12-03 22:31:24,366] INFO: checking output files...\n",
    "[2017-12-03 22:31:24,366] INFO: SUCCESS: all tasks completed\n",
    "[2017-12-03 22:31:24,367] INFO: concatenating 4 partial output files...\n",
    "[2017-12-03 22:31:24,376] INFO: removing partial output files...\n",
    "[2017-12-03 22:31:24,377] INFO: loading 1682 items in CosineKNNRecommender model from /Users/oksana/Documents/Денис_ХАРД/Jupiter/Lab1.1/model_KNN/u.data.train.3.sims.tsv\n",
    "[2017-12-03 22:31:25,590] INFO: done\n",
    "[2017-12-03 22:31:25,590] INFO: processing /Users/oksana/Documents/Денис_ХАРД/Jupiter/Lab1.1/splits/u.data.train.4...\n",
    "[2017-12-03 22:31:25,590] INFO: finding number of items...\n",
    "[2017-12-03 22:31:26,062] INFO: 943 users and 1681 items\n",
    "[2017-12-03 22:31:26,063] INFO: creating sims directory /Users/oksana/Documents/Денис_ХАРД/Jupiter/Lab1.1/model_KNN/u.data.train.4-sims...\n",
    "[2017-12-03 22:31:26,068] INFO: checking for existing output sims...\n",
    "[2017-12-03 22:31:26,068] INFO: creating tasks...\n",
    "[2017-12-03 22:31:26,068] INFO: running 4 tasks in parallel across ipython engines...\n",
    "[2017-12-03 22:31:27,862] INFO: checking output files...\n",
    "[2017-12-03 22:31:27,863] INFO: SUCCESS: all tasks completed\n",
    "[2017-12-03 22:31:27,863] INFO: concatenating 4 partial output files...\n",
    "[2017-12-03 22:31:27,872] INFO: removing partial output files...\n",
    "[2017-12-03 22:31:27,873] INFO: loading 1681 items in CosineKNNRecommender model from /Users/oksana/Documents/Денис_ХАРД/Jupiter/Lab1.1/model_KNN/u.data.train.4.sims.tsv\n",
    "[2017-12-03 22:31:29,148] INFO: done"
   ]
  },
  {
   "cell_type": "markdown",
   "metadata": {},
   "source": [
    "12.Предсказание KNN"
   ]
  },
  {
   "cell_type": "code",
   "execution_count": null,
   "metadata": {
    "collapsed": true
   },
   "outputs": [],
   "source": [
    "!sbin/mrec_predict \n",
    "    --input_format tsv \n",
    "    --test_input_format tsv \n",
    "    --train \"/Users/oksana/Documents/Денис_ХАРД/Jupiter/Lab1.1/splits/u.data.train.*\" \n",
    "    --modeldir /Users/oksana/Documents/Денис_ХАРД/Jupiter/Lab1.1/model_KNN \n",
    "    --outdir /Users/oksana/Documents/Денис_ХАРД/Jupiter/Lab1.1/recs_KNN"
   ]
  },
  {
   "cell_type": "code",
   "execution_count": null,
   "metadata": {
    "collapsed": true
   },
   "outputs": [],
   "source": [
    "[2017-12-03 22:37:54,305] INFO: processing /Users/oksana/Documents/Денис_ХАРД/Jupiter/Lab1.1/splits/u.data.train.0...\n",
    "[2017-12-03 22:37:54,305] INFO: creating recs directory /Users/oksana/Documents/Денис_ХАРД/Jupiter/Lab1.1/recs_KNN/u.data.train.0-recs...\n",
    "[2017-12-03 22:37:54,309] INFO: checking for existing output recs...\n",
    "[2017-12-03 22:37:54,310] INFO: creating tasks...\n",
    "[2017-12-03 22:37:54,310] INFO: loading dataset to get size...\n",
    "[2017-12-03 22:37:54,782] INFO: loading model to get size...\n",
    "[2017-12-03 22:37:54,864] INFO: created 1 tasks, 15095 users per task\n",
    "[2017-12-03 22:37:54,865] INFO: running in parallel across ipython engines...\n",
    "[2017-12-03 22:37:57,022] INFO: checking output files...\n",
    "[2017-12-03 22:37:57,023] INFO: SUCCESS: all tasks completed\n",
    "[2017-12-03 22:37:57,023] INFO: concatenating 1 partial output files...\n",
    "[2017-12-03 22:37:57,028] INFO: removing partial output files...\n",
    "[2017-12-03 22:37:57,029] INFO: done\n",
    "[2017-12-03 22:37:57,030] INFO: processing /Users/oksana/Documents/Денис_ХАРД/Jupiter/Lab1.1/splits/u.data.train.1...\n",
    "[2017-12-03 22:37:57,030] INFO: creating recs directory /Users/oksana/Documents/Денис_ХАРД/Jupiter/Lab1.1/recs_KNN/u.data.train.1-recs...\n",
    "[2017-12-03 22:37:57,034] INFO: checking for existing output recs...\n",
    "[2017-12-03 22:37:57,035] INFO: creating tasks...\n",
    "[2017-12-03 22:37:57,035] INFO: loading dataset to get size...\n",
    "[2017-12-03 22:37:57,520] INFO: loading model to get size...\n",
    "[2017-12-03 22:37:57,537] INFO: created 1 tasks, 15319 users per task\n",
    "[2017-12-03 22:37:57,537] INFO: running in parallel across ipython engines...\n",
    "[2017-12-03 22:37:59,679] INFO: checking output files...\n",
    "[2017-12-03 22:37:59,679] INFO: SUCCESS: all tasks completed\n",
    "[2017-12-03 22:37:59,679] INFO: concatenating 1 partial output files...\n",
    "[2017-12-03 22:37:59,685] INFO: removing partial output files...\n",
    "[2017-12-03 22:37:59,687] INFO: done\n",
    "[2017-12-03 22:37:59,689] INFO: processing /Users/oksana/Documents/Денис_ХАРД/Jupiter/Lab1.1/splits/u.data.train.2...\n",
    "[2017-12-03 22:37:59,690] INFO: creating recs directory /Users/oksana/Documents/Денис_ХАРД/Jupiter/Lab1.1/recs_KNN/u.data.train.2-recs...\n",
    "[2017-12-03 22:37:59,696] INFO: checking for existing output recs...\n",
    "[2017-12-03 22:37:59,697] INFO: creating tasks...\n",
    "[2017-12-03 22:37:59,697] INFO: loading dataset to get size...\n",
    "[2017-12-03 22:38:00,159] INFO: loading model to get size...\n",
    "[2017-12-03 22:38:00,175] INFO: created 1 tasks, 15297 users per task\n",
    "[2017-12-03 22:38:00,175] INFO: running in parallel across ipython engines...\n",
    "[2017-12-03 22:38:02,312] INFO: checking output files...\n",
    "[2017-12-03 22:38:02,312] INFO: SUCCESS: all tasks completed\n",
    "[2017-12-03 22:38:02,312] INFO: concatenating 1 partial output files...\n",
    "[2017-12-03 22:38:02,318] INFO: removing partial output files...\n",
    "[2017-12-03 22:38:02,318] INFO: done\n",
    "[2017-12-03 22:38:02,319] INFO: processing /Users/oksana/Documents/Денис_ХАРД/Jupiter/Lab1.1/splits/u.data.train.3...\n",
    "[2017-12-03 22:38:02,320] INFO: creating recs directory /Users/oksana/Documents/Денис_ХАРД/Jupiter/Lab1.1/recs_KNN/u.data.train.3-recs...\n",
    "[2017-12-03 22:38:02,323] INFO: checking for existing output recs...\n",
    "[2017-12-03 22:38:02,324] INFO: creating tasks...\n",
    "[2017-12-03 22:38:02,324] INFO: loading dataset to get size...\n",
    "[2017-12-03 22:38:02,799] INFO: loading model to get size...\n",
    "[2017-12-03 22:38:02,815] INFO: created 1 tasks, 15478 users per task\n",
    "[2017-12-03 22:38:02,815] INFO: running in parallel across ipython engines...\n",
    "[2017-12-03 22:38:04,930] INFO: checking output files...\n",
    "[2017-12-03 22:38:04,931] INFO: SUCCESS: all tasks completed\n",
    "[2017-12-03 22:38:04,931] INFO: concatenating 1 partial output files...\n",
    "[2017-12-03 22:38:04,936] INFO: removing partial output files...\n",
    "[2017-12-03 22:38:04,937] INFO: done\n",
    "[2017-12-03 22:38:04,938] INFO: processing /Users/oksana/Documents/Денис_ХАРД/Jupiter/Lab1.1/splits/u.data.train.4...\n",
    "[2017-12-03 22:38:04,938] INFO: creating recs directory /Users/oksana/Documents/Денис_ХАРД/Jupiter/Lab1.1/recs_KNN/u.data.train.4-recs...\n",
    "[2017-12-03 22:38:04,942] INFO: checking for existing output recs...\n",
    "[2017-12-03 22:38:04,942] INFO: creating tasks...\n",
    "[2017-12-03 22:38:04,942] INFO: loading dataset to get size...\n",
    "[2017-12-03 22:38:05,421] INFO: loading model to get size...\n",
    "[2017-12-03 22:38:05,439] INFO: created 1 tasks, 15235 users per task\n",
    "[2017-12-03 22:38:05,439] INFO: running in parallel across ipython engines...\n",
    "[2017-12-03 22:38:07,541] INFO: checking output files...\n",
    "[2017-12-03 22:38:07,541] INFO: SUCCESS: all tasks completed\n",
    "[2017-12-03 22:38:07,541] INFO: concatenating 1 partial output files...\n",
    "[2017-12-03 22:38:07,546] INFO: removing partial output files...\n",
    "[2017-12-03 22:38:07,547] INFO: done\n",
    "CosineKNNRecommender(k=100)\n",
    "mrr            0.6243 +/- 0.0042\n",
    "prec@5         0.4043 +/- 0.0022\n",
    "prec@10        0.3568 +/- 0.0022\n",
    "prec@15        0.3255 +/- 0.0012\n",
    "prec@20        0.3007 +/- 0.0010"
   ]
  },
  {
   "cell_type": "markdown",
   "metadata": {},
   "source": [
    "13.Результат предсказания"
   ]
  },
  {
   "cell_type": "code",
   "execution_count": 26,
   "metadata": {
    "collapsed": true
   },
   "outputs": [],
   "source": [
    "data_predict = pd.read_csv('recs/u.data.train.0.recs.tsv', sep='\\t', header=None, index_col=None)\n",
    "data_predict.columns = ['user id', 'movie id', 'pred']"
   ]
  },
  {
   "cell_type": "code",
   "execution_count": 27,
   "metadata": {},
   "outputs": [
    {
     "data": {
      "text/html": [
       "<div>\n",
       "<style>\n",
       "    .dataframe thead tr:only-child th {\n",
       "        text-align: right;\n",
       "    }\n",
       "\n",
       "    .dataframe thead th {\n",
       "        text-align: left;\n",
       "    }\n",
       "\n",
       "    .dataframe tbody tr th {\n",
       "        vertical-align: top;\n",
       "    }\n",
       "</style>\n",
       "<table border=\"1\" class=\"dataframe\">\n",
       "  <thead>\n",
       "    <tr style=\"text-align: right;\">\n",
       "      <th></th>\n",
       "      <th>user id</th>\n",
       "      <th>movie id</th>\n",
       "      <th>pred</th>\n",
       "    </tr>\n",
       "  </thead>\n",
       "  <tbody>\n",
       "    <tr>\n",
       "      <th>0</th>\n",
       "      <td>1</td>\n",
       "      <td>318</td>\n",
       "      <td>0.636330</td>\n",
       "    </tr>\n",
       "    <tr>\n",
       "      <th>1</th>\n",
       "      <td>1</td>\n",
       "      <td>172</td>\n",
       "      <td>0.601695</td>\n",
       "    </tr>\n",
       "    <tr>\n",
       "      <th>2</th>\n",
       "      <td>1</td>\n",
       "      <td>474</td>\n",
       "      <td>0.580335</td>\n",
       "    </tr>\n",
       "    <tr>\n",
       "      <th>3</th>\n",
       "      <td>1</td>\n",
       "      <td>7</td>\n",
       "      <td>0.573754</td>\n",
       "    </tr>\n",
       "  </tbody>\n",
       "</table>\n",
       "</div>"
      ],
      "text/plain": [
       "   user id  movie id      pred\n",
       "0        1       318  0.636330\n",
       "1        1       172  0.601695\n",
       "2        1       474  0.580335\n",
       "3        1         7  0.573754"
      ]
     },
     "execution_count": 27,
     "metadata": {},
     "output_type": "execute_result"
    }
   ],
   "source": [
    "data_predict.head(4)"
   ]
  },
  {
   "cell_type": "code",
   "execution_count": 30,
   "metadata": {},
   "outputs": [
    {
     "data": {
      "text/plain": [
       "6                                  Twelve Monkeys (1995)\n",
       "171                      Empire Strikes Back, The (1980)\n",
       "317                              Schindler's List (1993)\n",
       "473    Dr. Strangelove or: How I Learned to Stop Worr...\n",
       "Name: movie title, dtype: object"
      ]
     },
     "execution_count": 30,
     "metadata": {},
     "output_type": "execute_result"
    }
   ],
   "source": [
    "predicts_id = data_predict.head(4)['movie id'].values\n",
    "items_id = item['movie id'].isin(predicts_id)\n",
    "rating = item[items_id]\n",
    "rating['movie title']"
   ]
  },
  {
   "cell_type": "markdown",
   "metadata": {},
   "source": [
    "14.Результат предсказания KNN"
   ]
  },
  {
   "cell_type": "code",
   "execution_count": 36,
   "metadata": {
    "collapsed": true
   },
   "outputs": [],
   "source": [
    "data_predict_KNN = pd.read_csv('recs_knn/u.data.train.0.recs.tsv', sep='\\t', header=None, index_col=None)\n",
    "data_predict_KNN.columns = ['user id', 'movie id', 'pred']"
   ]
  },
  {
   "cell_type": "code",
   "execution_count": 37,
   "metadata": {},
   "outputs": [
    {
     "data": {
      "text/html": [
       "<div>\n",
       "<style>\n",
       "    .dataframe thead tr:only-child th {\n",
       "        text-align: right;\n",
       "    }\n",
       "\n",
       "    .dataframe thead th {\n",
       "        text-align: left;\n",
       "    }\n",
       "\n",
       "    .dataframe tbody tr th {\n",
       "        vertical-align: top;\n",
       "    }\n",
       "</style>\n",
       "<table border=\"1\" class=\"dataframe\">\n",
       "  <thead>\n",
       "    <tr style=\"text-align: right;\">\n",
       "      <th></th>\n",
       "      <th>user id</th>\n",
       "      <th>movie id</th>\n",
       "      <th>pred</th>\n",
       "    </tr>\n",
       "  </thead>\n",
       "  <tbody>\n",
       "    <tr>\n",
       "      <th>0</th>\n",
       "      <td>1</td>\n",
       "      <td>96</td>\n",
       "      <td>7.714126</td>\n",
       "    </tr>\n",
       "    <tr>\n",
       "      <th>1</th>\n",
       "      <td>1</td>\n",
       "      <td>168</td>\n",
       "      <td>7.444930</td>\n",
       "    </tr>\n",
       "    <tr>\n",
       "      <th>2</th>\n",
       "      <td>1</td>\n",
       "      <td>357</td>\n",
       "      <td>7.411187</td>\n",
       "    </tr>\n",
       "    <tr>\n",
       "      <th>3</th>\n",
       "      <td>1</td>\n",
       "      <td>183</td>\n",
       "      <td>7.289619</td>\n",
       "    </tr>\n",
       "  </tbody>\n",
       "</table>\n",
       "</div>"
      ],
      "text/plain": [
       "   user id  movie id      pred\n",
       "0        1        96  7.714126\n",
       "1        1       168  7.444930\n",
       "2        1       357  7.411187\n",
       "3        1       183  7.289619"
      ]
     },
     "execution_count": 37,
     "metadata": {},
     "output_type": "execute_result"
    }
   ],
   "source": [
    "data_predict_KNN.head(4)"
   ]
  },
  {
   "cell_type": "code",
   "execution_count": 38,
   "metadata": {},
   "outputs": [
    {
     "data": {
      "text/plain": [
       "95          Terminator 2: Judgment Day (1991)\n",
       "167    Monty Python and the Holy Grail (1974)\n",
       "182                              Alien (1979)\n",
       "356    One Flew Over the Cuckoo's Nest (1975)\n",
       "Name: movie title, dtype: object"
      ]
     },
     "execution_count": 38,
     "metadata": {},
     "output_type": "execute_result"
    }
   ],
   "source": [
    "predicts_KNN_id = data_predict_KNN.head(4)['movie id'].values\n",
    "items_KNN_id = item['movie id'].isin(predicts_KNN_id)\n",
    "rating_KNN = item[items_KNN_id]\n",
    "rating_KNN['movie title']"
   ]
  },
  {
   "cell_type": "code",
   "execution_count": null,
   "metadata": {
    "collapsed": true
   },
   "outputs": [],
   "source": []
  }
 ],
 "metadata": {
  "kernelspec": {
   "display_name": "Python 3",
   "language": "python",
   "name": "python3"
  },
  "language_info": {
   "codemirror_mode": {
    "name": "ipython",
    "version": 3
   },
   "file_extension": ".py",
   "mimetype": "text/x-python",
   "name": "python",
   "nbconvert_exporter": "python",
   "pygments_lexer": "ipython3",
   "version": "3.6.3"
  }
 },
 "nbformat": 4,
 "nbformat_minor": 2
}
