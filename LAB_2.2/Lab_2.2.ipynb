{
 "cells": [
  {
   "cell_type": "markdown",
   "metadata": {},
   "source": [
    "# Домашнее задание 2 по обработке текстов\n",
    "\n",
    "Рассмотрим задачу бинарной классификации. Пусть дано два списка имен: мужские и женские имена. Требуется разработать классификатор, который по данному имени будет определять мужское оно или женское.\n",
    "\n",
    "Данные: \n",
    "* Женские имена: female.txt\n",
    "* Мужские имена: male.txt"
   ]
  },
  {
   "cell_type": "code",
   "execution_count": 17,
   "metadata": {
    "collapsed": true
   },
   "outputs": [],
   "source": [
    "import pandas as pd\n",
    "\n",
    "with open ('female.txt', encoding = 'utf-8') as f:\n",
    "    female = set(map(str.strip, f.readlines()))\n",
    "    #female = f.read()\n",
    "with open ('male.txt', encoding = 'utf-8') as f:\n",
    "    male = set(map(str.strip, f.readlines()))\n",
    "    #male = f.read()"
   ]
  },
  {
   "cell_type": "markdown",
   "metadata": {},
   "source": [
    "## Часть 1. Предварительная обработка данных\n",
    "\n",
    "1. Удалите неоднозначные имена (те имена, которые являются и мужскими, и женскими дновременно), если такие есть; \n",
    "2. Создайте обучающее и тестовое множество так, чтобы в обучающем множестве классы были сбалансированы, т.е. к классу принадлежало бы одинаковое количество имен;\n",
    "\n",
    "    Неоднозначные имена - те, которые одновременно и мужские и женские"
   ]
  },
  {
   "cell_type": "code",
   "execution_count": 40,
   "metadata": {},
   "outputs": [],
   "source": [
    "ambigous =  male.intersection(female)"
   ]
  },
  {
   "cell_type": "code",
   "execution_count": 21,
   "metadata": {},
   "outputs": [
    {
     "data": {
      "text/plain": [
       "2578"
      ]
     },
     "metadata": {},
     "output_type": "display_data"
    },
    {
     "data": {
      "text/plain": [
       "4635"
      ]
     },
     "metadata": {},
     "output_type": "display_data"
    }
   ],
   "source": [
    "male -= ambigous\n",
    "female -= ambigous\n",
    "display(len(male))\n",
    "display(len(female))"
   ]
  },
  {
   "cell_type": "markdown",
   "metadata": {},
   "source": [
    "После удаления неоднозначных имен - количество мужских и женских имен - 2578 и 4635 соответственно. Для балланса и ровного счета возьмём по 2500 имён и разобьём на тестовую и обучающие выборки по 1900 и 600 имён."
   ]
  },
  {
   "cell_type": "code",
   "execution_count": 46,
   "metadata": {},
   "outputs": [],
   "source": [
    "import itertools\n",
    "DataFemale = pd.DataFrame(\n",
    "        sorted(itertools.chain(\n",
    "            zip(female, itertools.repeat('F'))\n",
    "        )),\n",
    "        columns=['name', 'gender'],\n",
    "    ).set_index('name')\n",
    "DataFemale['gender'] = DataFemale.gender.astype('category')"
   ]
  },
  {
   "cell_type": "code",
   "execution_count": 47,
   "metadata": {},
   "outputs": [],
   "source": [
    "DataMale = pd.DataFrame(\n",
    "        sorted(itertools.chain(\n",
    "            zip(male, itertools.repeat('M'))\n",
    "        )),\n",
    "        columns=['name', 'gender'],\n",
    "    ).set_index('name')\n",
    "DataMale['gender'] = DataMale.gender.astype('category')"
   ]
  },
  {
   "cell_type": "code",
   "execution_count": 50,
   "metadata": {},
   "outputs": [],
   "source": [
    "DataFemale = DataFemale[:2500].copy()\n",
    "DataMale = DataMale[:2500].copy()"
   ]
  },
  {
   "cell_type": "code",
   "execution_count": 51,
   "metadata": {},
   "outputs": [],
   "source": [
    "DFemale_train = DataFemale.iloc[:1900, :]\n",
    "DFemale_test = DataFemale.iloc[1900:, :]\n",
    "DMale_train = DataMale.iloc[:1900, :]\n",
    "DMale_test = DataMale.iloc[1900:, :]"
   ]
  },
  {
   "cell_type": "code",
   "execution_count": 55,
   "metadata": {},
   "outputs": [],
   "source": [
    "DF_train = pd.concat([DFemale_train, DMale_train])\n",
    "DF_test = pd.concat([DFemale_test, DMale_test])"
   ]
  },
  {
   "cell_type": "markdown",
   "metadata": {},
   "source": [
    "##  Часть 2. Базовый метод классификации\n",
    "\n",
    "Используйте метод наивного Байеса или логистическую регрессию для классификации имен: в качестве признаков используйте символьные $n$-граммы. Сравните результаты, получаемые при разных $n=2,3,4$ по $F$-мере и аккуратности. В каких случаях метод ошибается?\n",
    "\n",
    "Для генерации $n$-грамм используйте:"
   ]
  },
  {
   "cell_type": "code",
   "execution_count": 60,
   "metadata": {
    "collapsed": true
   },
   "outputs": [],
   "source": [
    "from nltk.util import ngrams\n",
    "from sklearn.naive_bayes import MultinomialNB\n",
    "from sklearn.feature_extraction.text import *\n",
    "from sklearn.metrics import *\n",
    "from sklearn.pipeline import Pipeline"
   ]
  },
  {
   "cell_type": "code",
   "execution_count": 146,
   "metadata": {
    "collapsed": true
   },
   "outputs": [],
   "source": [
    "def predic_bayes(train,test,Val1,Val2):\n",
    "        clf = Pipeline([\n",
    "            ('vect',CountVectorizer(analyzer='char', ngram_range=(Val1,Val2))),\n",
    "            ('clf',  MultinomialNB()),\n",
    "        ])\n",
    "        clf.fit(train.index, train.gender)   \n",
    "        predict = clf.predict(test.index)\n",
    "        print(\"ngram_range=({0:1.0f},{1:2.0f}) Accuracy:{2:4.2f} F1-measure:{3:4.2f} Precision:{4:.2f} Recall:{5:.2f}\".format(\n",
    "            Val1, \n",
    "            Val2, \n",
    "            accuracy_score(test.gender, predict),\n",
    "            f1_score(test.gender, predict, average='macro'),\n",
    "            precision_score(test.gender, predict, average='macro'),\n",
    "            recall_score(test.gender, predict, average='macro')\n",
    "        ))    "
   ]
  },
  {
   "cell_type": "code",
   "execution_count": 147,
   "metadata": {},
   "outputs": [
    {
     "name": "stdout",
     "output_type": "stream",
     "text": [
      "ngram_range=(1, 1) Accuracy:0.48 F1-measure:0.44 Precision:0.47 Recall:0.48\n",
      "ngram_range=(1, 2) Accuracy:0.54 F1-measure:0.52 Precision:0.55 Recall:0.54\n",
      "ngram_range=(1, 3) Accuracy:0.60 F1-measure:0.60 Precision:0.61 Recall:0.60\n",
      "ngram_range=(1, 4) Accuracy:0.63 F1-measure:0.63 Precision:0.64 Recall:0.63\n",
      "ngram_range=(1, 5) Accuracy:0.63 F1-measure:0.63 Precision:0.64 Recall:0.63\n",
      "ngram_range=(1, 6) Accuracy:0.63 F1-measure:0.63 Precision:0.64 Recall:0.63\n",
      "ngram_range=(2, 2) Accuracy:0.60 F1-measure:0.60 Precision:0.61 Recall:0.60\n",
      "ngram_range=(2, 3) Accuracy:0.65 F1-measure:0.64 Precision:0.65 Recall:0.65\n",
      "ngram_range=(2, 4) Accuracy:0.68 F1-measure:0.67 Precision:0.68 Recall:0.68\n",
      "ngram_range=(2, 5) Accuracy:0.68 F1-measure:0.68 Precision:0.68 Recall:0.68\n",
      "ngram_range=(2, 6) Accuracy:0.67 F1-measure:0.67 Precision:0.68 Recall:0.67\n",
      "ngram_range=(3, 3) Accuracy:0.65 F1-measure:0.65 Precision:0.65 Recall:0.65\n",
      "ngram_range=(3, 4) Accuracy:0.67 F1-measure:0.67 Precision:0.67 Recall:0.67\n",
      "ngram_range=(3, 5) Accuracy:0.67 F1-measure:0.67 Precision:0.67 Recall:0.67\n",
      "ngram_range=(3, 6) Accuracy:0.67 F1-measure:0.67 Precision:0.67 Recall:0.67\n",
      "ngram_range=(4, 4) Accuracy:0.60 F1-measure:0.59 Precision:0.62 Recall:0.60\n",
      "ngram_range=(4, 5) Accuracy:0.59 F1-measure:0.58 Precision:0.60 Recall:0.59\n",
      "ngram_range=(4, 6) Accuracy:0.59 F1-measure:0.58 Precision:0.60 Recall:0.59\n",
      "ngram_range=(5, 5) Accuracy:0.54 F1-measure:0.47 Precision:0.57 Recall:0.54\n",
      "ngram_range=(5, 6) Accuracy:0.53 F1-measure:0.47 Precision:0.56 Recall:0.53\n",
      "ngram_range=(6, 6) Accuracy:0.49 F1-measure:0.36 Precision:0.46 Recall:0.49\n"
     ]
    }
   ],
   "source": [
    "for i in range(6):\n",
    "    for j in range(6):\n",
    "        v1 = i + 1\n",
    "        v2 = j + 1\n",
    "        try:\n",
    "            predic_bayes(DF_train,DF_test,v1,v2)\n",
    "        except:\n",
    "            error = True        "
   ]
  },
  {
   "cell_type": "markdown",
   "metadata": {},
   "source": [
    "Лучший результат:"
   ]
  },
  {
   "cell_type": "code",
   "execution_count": 148,
   "metadata": {},
   "outputs": [
    {
     "name": "stdout",
     "output_type": "stream",
     "text": [
      "ngram_range=(2, 5) Accuracy:0.68 F1-measure:0.68 Precision:0.68 Recall:0.68\n"
     ]
    }
   ],
   "source": [
    "predic_bayes(DF_train,DF_test,2,5)"
   ]
  },
  {
   "cell_type": "code",
   "execution_count": 174,
   "metadata": {
    "collapsed": true
   },
   "outputs": [],
   "source": [
    "from sklearn.linear_model import LogisticRegression\n",
    "from sklearn.pipeline import Pipeline\n",
    "from sklearn.preprocessing import StandardScaler\n",
    "\n",
    "def predic_logistic(train,test,n):\n",
    "    clf = Pipeline([\n",
    "        ('vect', CountVectorizer(lowercase=False, analyzer='char', ngram_range=(n, n))),\n",
    "        ('normalizer', StandardScaler(with_mean=False)),\n",
    "        ('clf', LogisticRegression(random_state=234))\n",
    "    ])        \n",
    "    clf.fit(train.index, train.gender)   \n",
    "    predict = clf.predict(test.index)\n",
    "    print(\"n={0:1.0f} Accuracy:{1:4.2f} F1-measure:{2:4.2f} Precision:{3:.2f} Recall:{4:.2f}\".format(\n",
    "            n, \n",
    "            accuracy_score(test.gender, predict),\n",
    "            f1_score(test.gender, predict, average='macro'),\n",
    "            precision_score(test.gender, predict, average='macro'),\n",
    "            recall_score(test.gender, predict, average='macro')\n",
    "        ))   "
   ]
  },
  {
   "cell_type": "code",
   "execution_count": 176,
   "metadata": {},
   "outputs": [
    {
     "name": "stderr",
     "output_type": "stream",
     "text": [
      "/home/den/anaconda3/lib/python3.6/site-packages/sklearn/utils/validation.py:475: DataConversionWarning: Data with input dtype int64 was converted to float64 by StandardScaler.\n",
      "  warnings.warn(msg, DataConversionWarning)\n",
      "/home/den/anaconda3/lib/python3.6/site-packages/sklearn/utils/validation.py:475: DataConversionWarning: Data with input dtype int64 was converted to float64 by StandardScaler.\n",
      "  warnings.warn(msg, DataConversionWarning)\n"
     ]
    },
    {
     "name": "stdout",
     "output_type": "stream",
     "text": [
      "n=2 Accuracy:0.46 F1-measure:0.40 Precision:0.43 Recall:0.46\n",
      "n=3 Accuracy:0.64 F1-measure:0.64 Precision:0.65 Recall:0.64\n",
      "n=4 Accuracy:0.67 F1-measure:0.65 Precision:0.69 Recall:0.67\n"
     ]
    },
    {
     "name": "stderr",
     "output_type": "stream",
     "text": [
      "/home/den/anaconda3/lib/python3.6/site-packages/sklearn/utils/validation.py:475: DataConversionWarning: Data with input dtype int64 was converted to float64 by StandardScaler.\n",
      "  warnings.warn(msg, DataConversionWarning)\n"
     ]
    }
   ],
   "source": [
    "for i in range(3):\n",
    "    v1 = i + 2\n",
    "    try:\n",
    "        predic_logistic(DF_train,DF_test,v1)\n",
    "    except:\n",
    "        error = True   "
   ]
  },
  {
   "cell_type": "markdown",
   "metadata": {},
   "source": [
    "Лучший результат, n=4:"
   ]
  },
  {
   "cell_type": "code",
   "execution_count": 179,
   "metadata": {},
   "outputs": [
    {
     "name": "stdout",
     "output_type": "stream",
     "text": [
      "n=4 Accuracy:0.67 F1-measure:0.65 Precision:0.69 Recall:0.67\n"
     ]
    },
    {
     "name": "stderr",
     "output_type": "stream",
     "text": [
      "/home/den/anaconda3/lib/python3.6/site-packages/sklearn/utils/validation.py:475: DataConversionWarning: Data with input dtype int64 was converted to float64 by StandardScaler.\n",
      "  warnings.warn(msg, DataConversionWarning)\n"
     ]
    }
   ],
   "source": [
    "predic_logistic(DF_train,DF_test,4)"
   ]
  },
  {
   "cell_type": "markdown",
   "metadata": {},
   "source": [
    "##  Часть 3. Нейронная сеть\n",
    "\n",
    "\n",
    "Используйте  реккурентную нейронную сеть с  LSTM для решения задачи. В ней может быть несколько слоев с LSTM, несколько слоев c Bidirectional(LSTM).  У нейронной сети один выход, определяющий класс имени. \n",
    "\n",
    "Представление имени для классификации в этом случае: бинарная матрица размера (количество букв в алфавите $\\times$ максимальная длина имени). Обозначим его через $x$. Если первая буква имени a, то $x[1][1] = 1$, если вторая – b, то  $x[2][1] = 1$.  \n",
    "\n",
    "Не забудьте про регуляризацию нейронной сети дропаутами. \n",
    "\n",
    "Сравните результаты классификации разными методами. Какой метод лучше и почему?\n",
    "\n",
    "Сравните результаты, получаемые при разных значениях дропаута, разных числах узлов на слоях нейронной сети по $F$-мере и аккуратности. В каких случаях нейронная сеть ошибается?"
   ]
  },
  {
   "cell_type": "markdown",
   "metadata": {},
   "source": [
    "Если совсем не получается запрограммировать нейронную сеть самостоятельно, обратитесь к туториалу тут: https://github.com/divamgupta/lstm-gender-predictor"
   ]
  }
 ],
 "metadata": {
  "kernelspec": {
   "display_name": "Python 3",
   "language": "python",
   "name": "python3"
  },
  "language_info": {
   "codemirror_mode": {
    "name": "ipython",
    "version": 3
   },
   "file_extension": ".py",
   "mimetype": "text/x-python",
   "name": "python",
   "nbconvert_exporter": "python",
   "pygments_lexer": "ipython3",
   "version": "3.6.3"
  }
 },
 "nbformat": 4,
 "nbformat_minor": 2
}
