{
 "cells": [
  {
   "cell_type": "code",
   "execution_count": 1,
   "metadata": {
    "collapsed": true
   },
   "outputs": [],
   "source": [
    "import math"
   ]
  },
  {
   "cell_type": "code",
   "execution_count": null,
   "metadata": {
    "collapsed": true
   },
   "outputs": [],
   "source": []
  },
  {
   "cell_type": "code",
   "execution_count": 2,
   "metadata": {
    "collapsed": true
   },
   "outputs": [],
   "source": [
    " def dist(row):\n",
    "    llat1 = row['pickup_latitude']\n",
    "    llong1 = row['pickup_longitude']\n",
    "    llat2 = row['pickup_latitude']\n",
    "    llong2 = row['dropoff_longitude']  \n",
    "\n",
    "    #(llat1,llong1,llat2,llong2):\n",
    "    #pi - число pi, rad - радиус сферы (Земли)\n",
    "    rad = 6372795\n",
    " \n",
    "    #координаты двух точек\n",
    "    #llat1 = 77.1539\n",
    "    #llong1 = -120.398\n",
    " \n",
    "    #llat2 = 77.1804\n",
    "    #llong2 = 129.55\n",
    " \n",
    "    #в радианах\n",
    "    lat1 = llat1*math.pi/180.\n",
    "    lat2 = llat2*math.pi/180.\n",
    "    long1 = llong1*math.pi/180.\n",
    "    long2 = llong2*math.pi/180.\n",
    " \n",
    "    #косинусы и синусы широт и разницы долгот\n",
    "    cl1 = math.cos(lat1)\n",
    "    cl2 = math.cos(lat2)\n",
    "    sl1 = math.sin(lat1)\n",
    "    sl2 = math.sin(lat2)\n",
    "    delta = long2 - long1\n",
    "    cdelta = math.cos(delta)\n",
    "    sdelta = math.sin(delta)\n",
    " \n",
    "    #вычисления длины большого круга\n",
    "    y = math.sqrt(math.pow(cl2*sdelta,2)+math.pow(cl1*sl2-sl1*cl2*cdelta,2))\n",
    "    x = sl1*sl2+cl1*cl2*cdelta\n",
    "    ad = math.atan2(y,x)\n",
    "    dist = ad*rad\n",
    " \n",
    "    #вычисление начального азимута\n",
    "    x = (cl1*sl2) - (sl1*cl2*cdelta)\n",
    "    y = sdelta*cl2\n",
    "    z = math.degrees(math.atan(-y/x))\n",
    " \n",
    "    if (x < 0):\n",
    "        z = z+180.\n",
    " \n",
    "    z2 = (z+180.) % 360. - 180.\n",
    "    z2 = - math.radians(z2)\n",
    "    anglerad2 = z2 - ((2*math.pi)*math.floor((z2/(2*math.pi))) )\n",
    "    angledeg = (anglerad2*180.)/math.pi\n",
    " \n",
    "    #print 'Distance >> %.0f' % dist, ' [meters]'\n",
    "    #print 'Initial bearing >> ', angledeg, '[degrees]'\n",
    "    return dist"
   ]
  },
  {
   "cell_type": "code",
   "execution_count": 3,
   "metadata": {
    "collapsed": true
   },
   "outputs": [],
   "source": [
    "#! dir"
   ]
  },
  {
   "cell_type": "code",
   "execution_count": 4,
   "metadata": {},
   "outputs": [
    {
     "name": "stdout",
     "output_type": "stream",
     "text": [
      "Populating the interactive namespace from numpy and matplotlib\n",
      "Wall time: 38.4 s\n"
     ]
    }
   ],
   "source": [
    "%%time\n",
    "from __future__ import (absolute_import, division,\n",
    "                        print_function, unicode_literals)\n",
    "# отключим предупреждения Anaconda\n",
    "import warnings\n",
    "warnings.simplefilter('ignore')\n",
    "\n",
    "# будем отображать графики прямо в jupyter'e\n",
    "%pylab inline\n",
    "#графики в svg выглядят более четкими\n",
    "%config InlineBackend.figure_format = 'svg' \n",
    "%matplotlib inline\n",
    "#увеличим дефолтный размер графиков\n",
    "from pylab import rcParams\n",
    "rcParams['figure.figsize'] = 8,5\n",
    "import pandas as pd\n",
    "import numpy as np\n",
    "import seaborn as sns"
   ]
  },
  {
   "cell_type": "code",
   "execution_count": null,
   "metadata": {
    "collapsed": true
   },
   "outputs": [],
   "source": []
  },
  {
   "cell_type": "code",
   "execution_count": 5,
   "metadata": {
    "collapsed": true
   },
   "outputs": [],
   "source": [
    "path1 = r'C:\\Users\\Safonov\\Downloads\\11AA\\Source\\1.3\\IMDB' + '//'"
   ]
  },
  {
   "cell_type": "code",
   "execution_count": 6,
   "metadata": {
    "collapsed": true
   },
   "outputs": [],
   "source": [
    "FName11 = 'tmdb_5000_credits.csv'"
   ]
  },
  {
   "cell_type": "code",
   "execution_count": 7,
   "metadata": {
    "collapsed": true
   },
   "outputs": [],
   "source": [
    "FName12 = 'tmdb_5000_movies.csv'"
   ]
  },
  {
   "cell_type": "code",
   "execution_count": 8,
   "metadata": {
    "collapsed": true
   },
   "outputs": [],
   "source": [
    "full_patch1 = path1 + FName12"
   ]
  },
  {
   "cell_type": "code",
   "execution_count": 9,
   "metadata": {
    "collapsed": true
   },
   "outputs": [],
   "source": [
    "path2 = r'C:\\Users\\Safonov\\Downloads\\11AA\\Source\\1.3\\NBA' + '//'"
   ]
  },
  {
   "cell_type": "code",
   "execution_count": 10,
   "metadata": {
    "collapsed": true
   },
   "outputs": [],
   "source": [
    "FName21 = 'Players.csv'"
   ]
  },
  {
   "cell_type": "code",
   "execution_count": 11,
   "metadata": {
    "collapsed": true
   },
   "outputs": [],
   "source": [
    "FName22 = 'Seasons_Stats.csv'"
   ]
  },
  {
   "cell_type": "code",
   "execution_count": 12,
   "metadata": {
    "collapsed": true
   },
   "outputs": [],
   "source": [
    "full_patch2 = path2 + FName22"
   ]
  },
  {
   "cell_type": "code",
   "execution_count": 13,
   "metadata": {
    "collapsed": true
   },
   "outputs": [],
   "source": [
    "path3 = r'C:\\Users\\Safonov\\Downloads\\11AA\\Source\\1.3\\NYC' + '//'"
   ]
  },
  {
   "cell_type": "code",
   "execution_count": 14,
   "metadata": {
    "collapsed": true
   },
   "outputs": [],
   "source": [
    "FName3 = 'train.csv'"
   ]
  },
  {
   "cell_type": "code",
   "execution_count": 15,
   "metadata": {
    "collapsed": true
   },
   "outputs": [],
   "source": [
    "full_patch3 = path3 + FName3"
   ]
  },
  {
   "cell_type": "code",
   "execution_count": 16,
   "metadata": {},
   "outputs": [
    {
     "name": "stdout",
     "output_type": "stream",
     "text": [
      "(1458644, 11)\n",
      "Wall time: 6.11 s\n"
     ]
    }
   ],
   "source": [
    "%%time\n",
    "df = pd.read_csv(full_patch3) #, dtype={'pickup_datetime': float64,'dropoff_datetime': float64})\n",
    "print(df.shape)"
   ]
  },
  {
   "cell_type": "code",
   "execution_count": 17,
   "metadata": {
    "scrolled": true
   },
   "outputs": [
    {
     "name": "stdout",
     "output_type": "stream",
     "text": [
      "<class 'pandas.core.frame.DataFrame'>\n",
      "RangeIndex: 1458644 entries, 0 to 1458643\n",
      "Data columns (total 11 columns):\n",
      "id                    1458644 non-null object\n",
      "vendor_id             1458644 non-null int64\n",
      "pickup_datetime       1458644 non-null object\n",
      "dropoff_datetime      1458644 non-null object\n",
      "passenger_count       1458644 non-null int64\n",
      "pickup_longitude      1458644 non-null float64\n",
      "pickup_latitude       1458644 non-null float64\n",
      "dropoff_longitude     1458644 non-null float64\n",
      "dropoff_latitude      1458644 non-null float64\n",
      "store_and_fwd_flag    1458644 non-null object\n",
      "trip_duration         1458644 non-null int64\n",
      "dtypes: float64(4), int64(3), object(4)\n",
      "memory usage: 122.4+ MB\n"
     ]
    }
   ],
   "source": [
    "df.info()"
   ]
  },
  {
   "cell_type": "code",
   "execution_count": 18,
   "metadata": {
    "collapsed": true
   },
   "outputs": [],
   "source": [
    "# df.head()"
   ]
  },
  {
   "cell_type": "code",
   "execution_count": 19,
   "metadata": {
    "collapsed": true
   },
   "outputs": [],
   "source": [
    "#df.trip_duration.value_counts()"
   ]
  },
  {
   "cell_type": "code",
   "execution_count": 20,
   "metadata": {},
   "outputs": [
    {
     "name": "stdout",
     "output_type": "stream",
     "text": [
      "Wall time: 1.6 s\n"
     ]
    }
   ],
   "source": [
    "%%time\n",
    "df['pickup_datetime'] = pd.to_datetime(df.pickup_datetime)\n",
    "df['dropoff_datetime'] = pd.to_datetime(df.dropoff_datetime)\n",
    "\n",
    "#datetime.datetime.strptime(df.pickup_datetime,  '%Y-%m-%d %H:%M:%S') #'g'#df.dropoff_datetime - df.pickup_datetime"
   ]
  },
  {
   "cell_type": "code",
   "execution_count": 21,
   "metadata": {},
   "outputs": [
    {
     "name": "stdout",
     "output_type": "stream",
     "text": [
      "Wall time: 150 ms\n"
     ]
    }
   ],
   "source": [
    "%%time\n",
    "df['trip_time'] = df.dropoff_datetime - df.pickup_datetime"
   ]
  },
  {
   "cell_type": "code",
   "execution_count": 22,
   "metadata": {},
   "outputs": [
    {
     "name": "stdout",
     "output_type": "stream",
     "text": [
      "Wall time: 0 ns\n"
     ]
    }
   ],
   "source": [
    "%%time\n",
    "#df['trip_time_sec'] = df[\"trip_time\"].apply(lambda x: x.seconds) # df.trip_time.seconds"
   ]
  },
  {
   "cell_type": "code",
   "execution_count": 23,
   "metadata": {},
   "outputs": [
    {
     "name": "stdout",
     "output_type": "stream",
     "text": [
      "Wall time: 0 ns\n"
     ]
    }
   ],
   "source": [
    "%%time\n",
    "#df['pickup_long_rad'] = df['pickup_longitude'].apply(lambda x: x*math.pi/180)\n",
    "#df['pickup_lat_rad'] = df['pickup_latitude'].apply(lambda x: x*math.pi/180)\n",
    "#df['dropoff_long_rad'] = df['dropoff_longitude'].apply(lambda x: x*math.pi/180)\n",
    "#df['dropoff_lat_rad'] = df['dropoff_latitude'].apply(lambda x: x*math.pi/180)\n",
    "#df[''] =ABS(K5-K4)*ABS(COS(МИН(ABS(J4);ABS(J5))))"
   ]
  },
  {
   "cell_type": "code",
   "execution_count": 24,
   "metadata": {},
   "outputs": [],
   "source": [
    "def dist1(row):\n",
    "    llat1 = row['pickup_latitude']\n",
    "    llong1 = row['pickup_longitude']\n",
    "    llat2 = row['pickup_latitude']\n",
    "    llong2 = row['dropoff_longitude'] \n",
    "    #pi - число pi, rad - радиус сферы (Земли)\n",
    "    rad = 6372795\n",
    "    \n",
    "    #в радианах\n",
    "    lat1 = llat1*math.pi/180\n",
    "    lat2 = llat2*math.pi/180\n",
    "    long1 = llong1*math.pi/180\n",
    "    long2 = llong2*math.pi/180   \n",
    "\n",
    "    #косинусы и синусы широт и разницы долгот\n",
    "    cl1 = math.cos(lat1)\n",
    "    cl2 = math.cos(lat2)\n",
    "    sl1 = math.sin(lat1)\n",
    "    sl2 = math.sin(lat2)\n",
    "    delta = long2 - long1\n",
    "    cdelta = math.cos(delta)\n",
    "    sdelta = math.sin(delta) \n",
    "    \n",
    "    #вычисления длины большого круга\n",
    "    y = math.sqrt(math.pow(cl2*sdelta,2)+math.pow(cl1*sl2-sl1*cl2*cdelta,2))\n",
    "    x = sl1*sl2+cl1*cl2*cdelta\n",
    "    ad = math.atan2(y,x)\n",
    "    dist = ad*rad    \n",
    "    \n",
    "    к = round(dist)\n",
    "    return к"
   ]
  },
  {
   "cell_type": "code",
   "execution_count": null,
   "metadata": {},
   "outputs": [],
   "source": [
    "%%time\n",
    "df['dist'] = df.apply( dist1, axis = 1 )\n",
    "#df['av_speed'] =df['dist'] / df['trip_duration']"
   ]
  },
  {
   "cell_type": "code",
   "execution_count": null,
   "metadata": {
    "collapsed": true
   },
   "outputs": [],
   "source": [
    "%%time\n",
    "df['av_speed'] = df['dist'] / df['trip_duration']"
   ]
  },
  {
   "cell_type": "code",
   "execution_count": null,
   "metadata": {},
   "outputs": [],
   "source": [
    "useful_cols = ['pickup_datetime', 'dropoff_datetime', 'passenger_count', 'store_and_fwd_flag', \n",
    "               'trip_duration', 'trip_time', 'dist'\n",
    "              ]\n",
    "df[useful_cols].head(10)\n",
    "//df.head()"
   ]
  },
  {
   "cell_type": "code",
   "execution_count": null,
   "metadata": {
    "collapsed": true
   },
   "outputs": [],
   "source": [
    "#df.trip_time_sec.hist()"
   ]
  },
  {
   "cell_type": "code",
   "execution_count": 93,
   "metadata": {},
   "outputs": [
    {
     "name": "stdout",
     "output_type": "stream",
     "text": [
      "Wall time: 31.2 s\n"
     ]
    },
    {
     "data": {
      "image/png": "[encoded data removed]",
      "text/plain": [
       "<matplotlib.figure.Figure at 0x4cc1a38908>"
      ]
     },
     "metadata": {},
     "output_type": "display_data"
    }
   ],
   "source": [
    "%%time\n",
    "#%config InlineBackend.figure_format = 'png' \n",
    "#sns_plot = sns.pairplot(\n",
    "#    df[['trip_duration', 'dist', 'pickup_datetime']]);\n",
    "#sns_plot.savefig('pairplot.png')"
   ]
  },
  {
   "cell_type": "code",
   "execution_count": 97,
   "metadata": {},
   "outputs": [
    {
     "data": {
      "text/plain": [
       "368      1624\n",
       "408      1584\n",
       "348      1582\n",
       "367      1581\n",
       "358      1577\n",
       "399      1573\n",
       "418      1570\n",
       "417      1568\n",
       "388      1567\n",
       "344      1561\n",
       "327      1560\n",
       "449      1560\n",
       "334      1556\n",
       "369      1556\n",
       "378      1550\n",
       "422      1550\n",
       "352      1549\n",
       "438      1547\n",
       "424      1547\n",
       "357      1542\n",
       "403      1540\n",
       "362      1540\n",
       "376      1539\n",
       "353      1539\n",
       "354      1538\n",
       "386      1538\n",
       "332      1538\n",
       "398      1536\n",
       "448      1536\n",
       "375      1533\n",
       "         ... \n",
       "85932       1\n",
       "83236       1\n",
       "5390        1\n",
       "13184       1\n",
       "6896        1\n",
       "83235       1\n",
       "29576       1\n",
       "4361        1\n",
       "5872        1\n",
       "6020        1\n",
       "7044        1\n",
       "4999        1\n",
       "85933       1\n",
       "6753        1\n",
       "85304       1\n",
       "7440        1\n",
       "6416        1\n",
       "81205       1\n",
       "7441        1\n",
       "86328       1\n",
       "82860       1\n",
       "6418        1\n",
       "4370        1\n",
       "6022        1\n",
       "5873        1\n",
       "85305       1\n",
       "83256       1\n",
       "83884       1\n",
       "6419        1\n",
       "8522        1\n",
       "Name: trip_duration, Length: 7417, dtype: int64"
      ]
     },
     "execution_count": 97,
     "metadata": {},
     "output_type": "execute_result"
    }
   ],
   "source": [
    "df.trip_duration.value_counts()"
   ]
  },
  {
   "cell_type": "code",
   "execution_count": null,
   "metadata": {
    "collapsed": true
   },
   "outputs": [],
   "source": []
  }
 ],
 "metadata": {
  "kernelspec": {
   "display_name": "Python 3",
   "language": "python",
   "name": "python3"
  },
  "language_info": {
   "codemirror_mode": {
    "name": "ipython",
    "version": 3
   },
   "file_extension": ".py",
   "mimetype": "text/x-python",
   "name": "python",
   "nbconvert_exporter": "python",
   "pygments_lexer": "ipython3",
   "version": "3.6.2"
  }
 },
 "nbformat": 4,
 "nbformat_minor": 2
}
