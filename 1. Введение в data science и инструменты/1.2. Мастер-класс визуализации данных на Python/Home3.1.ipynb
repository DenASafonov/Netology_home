{
 "cells": [
  {
   "cell_type": "code",
   "execution_count": 4,
   "metadata": {},
   "outputs": [
    {
     "name": "stdout",
     "output_type": "stream",
     "text": [
      "Populating the interactive namespace from numpy and matplotlib\n",
      "Wall time: 29 ms\n"
     ]
    }
   ],
   "source": [
    "%%time\n",
    "from __future__ import (absolute_import, division,\n",
    "                        print_function, unicode_literals)\n",
    "# отключим предупреждения Anaconda\n",
    "import warnings\n",
    "warnings.simplefilter('ignore')\n",
    "\n",
    "# будем отображать графики прямо в jupyter'e\n",
    "%pylab inline\n",
    "#графики в svg выглядят более четкими\n",
    "%config InlineBackend.figure_format = 'svg' \n",
    "%matplotlib inline\n",
    "#увеличим дефолтный размер графиков\n",
    "from pylab import rcParams\n",
    "rcParams['figure.figsize'] = 8,5\n",
    "import pandas as pd\n",
    "import numpy as np\n",
    "import seaborn as sns"
   ]
  },
  {
   "cell_type": "markdown",
   "metadata": {},
   "source": [
    "# Загрузим данные такис Нью-йорка"
   ]
  },
  {
   "cell_type": "code",
   "execution_count": 5,
   "metadata": {},
   "outputs": [
    {
     "data": {
      "text/plain": [
       "'train.csv'"
      ]
     },
     "execution_count": 5,
     "metadata": {},
     "output_type": "execute_result"
    }
   ],
   "source": [
    "#path3 = r'C:\\Users\\DenAS\\Downloads\\11AA\\Source\\1.3\\NYC' + '//'\n",
    "FName3 = 'train.csv'\n",
    "full_patch3 = FName3\n",
    "full_patch3"
   ]
  },
  {
   "cell_type": "code",
   "execution_count": 44,
   "metadata": {},
   "outputs": [
    {
     "name": "stdout",
     "output_type": "stream",
     "text": [
      "(1458644, 11)\n",
      "Wall time: 6.48 s\n"
     ]
    }
   ],
   "source": [
    "%%time\n",
    "df = pd.read_csv(full_patch3) #, dtype={'pickup_datetime': float64,'dropoff_datetime': float64})\n",
    "print(df.shape)"
   ]
  },
  {
   "cell_type": "markdown",
   "metadata": {},
   "source": [
    "Переведём колонки pickup_datetime,  dropoff_datetime в формат дата-время и вычислим время поездки, как дату-время"
   ]
  },
  {
   "cell_type": "code",
   "execution_count": 45,
   "metadata": {},
   "outputs": [
    {
     "name": "stdout",
     "output_type": "stream",
     "text": [
      "Wall time: 1.5 s\n"
     ]
    }
   ],
   "source": [
    "%%time\n",
    "df['pickup_datetime'] = pd.to_datetime(df.pickup_datetime)\n",
    "df['dropoff_datetime'] = pd.to_datetime(df.dropoff_datetime)\n",
    "df['trip_time'] = df.dropoff_datetime - df.pickup_datetime"
   ]
  },
  {
   "cell_type": "code",
   "execution_count": 46,
   "metadata": {},
   "outputs": [],
   "source": [
    "#df.info()"
   ]
  },
  {
   "cell_type": "markdown",
   "metadata": {},
   "source": [
    "Определим час начала поездки:"
   ]
  },
  {
   "cell_type": "code",
   "execution_count": 47,
   "metadata": {
    "collapsed": true
   },
   "outputs": [],
   "source": [
    "def t_interval(row):\n",
    "    return row['pickup_datetime'].hour"
   ]
  },
  {
   "cell_type": "code",
   "execution_count": 48,
   "metadata": {},
   "outputs": [
    {
     "name": "stdout",
     "output_type": "stream",
     "text": [
      "Wall time: 2min 49s\n"
     ]
    }
   ],
   "source": [
    "%%time\n",
    "df['Hour'] = df.apply( t_interval, axis = 1 )"
   ]
  },
  {
   "cell_type": "markdown",
   "metadata": {},
   "source": [
    "Добавим колонку \"Количество поездок\""
   ]
  },
  {
   "cell_type": "code",
   "execution_count": 49,
   "metadata": {},
   "outputs": [
    {
     "name": "stdout",
     "output_type": "stream",
     "text": [
      "Wall time: 17 ms\n"
     ]
    }
   ],
   "source": [
    "%%time\n",
    "df['Trip_cunt'] = 1"
   ]
  },
  {
   "cell_type": "markdown",
   "metadata": {},
   "source": [
    "Удалим колонки географически координат начала и конца поездки:"
   ]
  },
  {
   "cell_type": "code",
   "execution_count": 50,
   "metadata": {},
   "outputs": [],
   "source": [
    "df = df.drop(['pickup_longitude','pickup_latitude','dropoff_longitude','dropoff_latitude'],axis=1)\n",
    "#data.drop('weight_pounds',axis=1)\n",
    "#df.info()"
   ]
  },
  {
   "cell_type": "code",
   "execution_count": 51,
   "metadata": {},
   "outputs": [
    {
     "data": {
      "text/html": [
       "<div>\n",
       "<style>\n",
       "    .dataframe thead tr:only-child th {\n",
       "        text-align: right;\n",
       "    }\n",
       "\n",
       "    .dataframe thead th {\n",
       "        text-align: left;\n",
       "    }\n",
       "\n",
       "    .dataframe tbody tr th {\n",
       "        vertical-align: top;\n",
       "    }\n",
       "</style>\n",
       "<table border=\"1\" class=\"dataframe\">\n",
       "  <thead>\n",
       "    <tr style=\"text-align: right;\">\n",
       "      <th></th>\n",
       "      <th>id</th>\n",
       "      <th>vendor_id</th>\n",
       "      <th>pickup_datetime</th>\n",
       "      <th>dropoff_datetime</th>\n",
       "      <th>passenger_count</th>\n",
       "      <th>store_and_fwd_flag</th>\n",
       "      <th>trip_duration</th>\n",
       "      <th>trip_time</th>\n",
       "      <th>Hour</th>\n",
       "      <th>Trip_cunt</th>\n",
       "    </tr>\n",
       "  </thead>\n",
       "  <tbody>\n",
       "    <tr>\n",
       "      <th>0</th>\n",
       "      <td>id2875421</td>\n",
       "      <td>2</td>\n",
       "      <td>2016-03-14 17:24:55</td>\n",
       "      <td>2016-03-14 17:32:30</td>\n",
       "      <td>1</td>\n",
       "      <td>N</td>\n",
       "      <td>455</td>\n",
       "      <td>00:07:35</td>\n",
       "      <td>17</td>\n",
       "      <td>1</td>\n",
       "    </tr>\n",
       "    <tr>\n",
       "      <th>1</th>\n",
       "      <td>id2377394</td>\n",
       "      <td>1</td>\n",
       "      <td>2016-06-12 00:43:35</td>\n",
       "      <td>2016-06-12 00:54:38</td>\n",
       "      <td>1</td>\n",
       "      <td>N</td>\n",
       "      <td>663</td>\n",
       "      <td>00:11:03</td>\n",
       "      <td>0</td>\n",
       "      <td>1</td>\n",
       "    </tr>\n",
       "    <tr>\n",
       "      <th>2</th>\n",
       "      <td>id3858529</td>\n",
       "      <td>2</td>\n",
       "      <td>2016-01-19 11:35:24</td>\n",
       "      <td>2016-01-19 12:10:48</td>\n",
       "      <td>1</td>\n",
       "      <td>N</td>\n",
       "      <td>2124</td>\n",
       "      <td>00:35:24</td>\n",
       "      <td>11</td>\n",
       "      <td>1</td>\n",
       "    </tr>\n",
       "    <tr>\n",
       "      <th>3</th>\n",
       "      <td>id3504673</td>\n",
       "      <td>2</td>\n",
       "      <td>2016-04-06 19:32:31</td>\n",
       "      <td>2016-04-06 19:39:40</td>\n",
       "      <td>1</td>\n",
       "      <td>N</td>\n",
       "      <td>429</td>\n",
       "      <td>00:07:09</td>\n",
       "      <td>19</td>\n",
       "      <td>1</td>\n",
       "    </tr>\n",
       "    <tr>\n",
       "      <th>4</th>\n",
       "      <td>id2181028</td>\n",
       "      <td>2</td>\n",
       "      <td>2016-03-26 13:30:55</td>\n",
       "      <td>2016-03-26 13:38:10</td>\n",
       "      <td>1</td>\n",
       "      <td>N</td>\n",
       "      <td>435</td>\n",
       "      <td>00:07:15</td>\n",
       "      <td>13</td>\n",
       "      <td>1</td>\n",
       "    </tr>\n",
       "  </tbody>\n",
       "</table>\n",
       "</div>"
      ],
      "text/plain": [
       "          id  vendor_id     pickup_datetime    dropoff_datetime  \\\n",
       "0  id2875421          2 2016-03-14 17:24:55 2016-03-14 17:32:30   \n",
       "1  id2377394          1 2016-06-12 00:43:35 2016-06-12 00:54:38   \n",
       "2  id3858529          2 2016-01-19 11:35:24 2016-01-19 12:10:48   \n",
       "3  id3504673          2 2016-04-06 19:32:31 2016-04-06 19:39:40   \n",
       "4  id2181028          2 2016-03-26 13:30:55 2016-03-26 13:38:10   \n",
       "\n",
       "   passenger_count store_and_fwd_flag  trip_duration trip_time  Hour  \\\n",
       "0                1                  N            455  00:07:35    17   \n",
       "1                1                  N            663  00:11:03     0   \n",
       "2                1                  N           2124  00:35:24    11   \n",
       "3                1                  N            429  00:07:09    19   \n",
       "4                1                  N            435  00:07:15    13   \n",
       "\n",
       "   Trip_cunt  \n",
       "0          1  \n",
       "1          1  \n",
       "2          1  \n",
       "3          1  \n",
       "4          1  "
      ]
     },
     "execution_count": 51,
     "metadata": {},
     "output_type": "execute_result"
    }
   ],
   "source": [
    "df.head()"
   ]
  },
  {
   "cell_type": "code",
   "execution_count": 52,
   "metadata": {},
   "outputs": [],
   "source": [
    "#df.describe()"
   ]
  },
  {
   "cell_type": "markdown",
   "metadata": {},
   "source": [
    "Узнаем в какие часы совершается польше поездок - построим гистограмму по часам"
   ]
  },
  {
   "cell_type": "code",
   "execution_count": 64,
   "metadata": {},
   "outputs": [
    {
     "data": {
      "image/png": "[encoded data removed]",
      "text/plain": [
       "<matplotlib.figure.Figure at 0x25007852b0>"
      ]
     },
     "metadata": {},
     "output_type": "display_data"
    }
   ],
   "source": [
    "plt.hist( df['Hour'], bins = 23)\n",
    "plt.show()"
   ]
  },
  {
   "cell_type": "markdown",
   "metadata": {},
   "source": [
    "Узнаем в какое время пассажиры ездят по одиночке, а в какое группами - построим распределение по часам переменных passenger_count и Trip_cunt"
   ]
  },
  {
   "cell_type": "code",
   "execution_count": 65,
   "metadata": {
    "collapsed": true
   },
   "outputs": [],
   "source": [
    "df1 = df[['passenger_count','Trip_cunt'] + ['Hour']]\\\n",
    "    .groupby('Hour').sum()"
   ]
  },
  {
   "cell_type": "code",
   "execution_count": 66,
   "metadata": {},
   "outputs": [
    {
     "data": {
      "text/html": [
       "<style  type=\"text/css\" >\n",
       "    #T_e05440fe_ba3b_11e7_8769_50465d539de6row0_col0 {\n",
       "            width:  10em;\n",
       "             height:  80%;\n",
       "            background:  linear-gradient(90deg,#d65f5f 52.2%, transparent 0%);\n",
       "        }    #T_e05440fe_ba3b_11e7_8769_50465d539de6row0_col1 {\n",
       "            width:  10em;\n",
       "             height:  80%;\n",
       "            background:  linear-gradient(90deg,#d65f5f 50.6%, transparent 0%);\n",
       "        }    #T_e05440fe_ba3b_11e7_8769_50465d539de6row1_col0 {\n",
       "            width:  10em;\n",
       "             height:  80%;\n",
       "            background:  linear-gradient(90deg,#d65f5f 33.2%, transparent 0%);\n",
       "        }    #T_e05440fe_ba3b_11e7_8769_50465d539de6row1_col1 {\n",
       "            width:  10em;\n",
       "             height:  80%;\n",
       "            background:  linear-gradient(90deg,#d65f5f 31.2%, transparent 0%);\n",
       "        }    #T_e05440fe_ba3b_11e7_8769_50465d539de6row2_col0 {\n",
       "            width:  10em;\n",
       "             height:  80%;\n",
       "            background:  linear-gradient(90deg,#d65f5f 18.9%, transparent 0%);\n",
       "        }    #T_e05440fe_ba3b_11e7_8769_50465d539de6row2_col1 {\n",
       "            width:  10em;\n",
       "             height:  80%;\n",
       "            background:  linear-gradient(90deg,#d65f5f 17.2%, transparent 0%);\n",
       "        }    #T_e05440fe_ba3b_11e7_8769_50465d539de6row3_col0 {\n",
       "            width:  10em;\n",
       "             height:  80%;\n",
       "            background:  linear-gradient(90deg,#d65f5f 9.4%, transparent 0%);\n",
       "        }    #T_e05440fe_ba3b_11e7_8769_50465d539de6row3_col1 {\n",
       "            width:  10em;\n",
       "             height:  80%;\n",
       "            background:  linear-gradient(90deg,#d65f5f 7.8%, transparent 0%);\n",
       "        }    #T_e05440fe_ba3b_11e7_8769_50465d539de6row4_col0 {\n",
       "            width:  10em;\n",
       "             height:  80%;\n",
       "            background:  linear-gradient(90deg,#d65f5f 2.6%, transparent 0%);\n",
       "        }    #T_e05440fe_ba3b_11e7_8769_50465d539de6row4_col1 {\n",
       "            width:  10em;\n",
       "             height:  80%;\n",
       "            background:  linear-gradient(90deg,#d65f5f 1.0%, transparent 0%);\n",
       "        }    #T_e05440fe_ba3b_11e7_8769_50465d539de6row5_col0 {\n",
       "            width:  10em;\n",
       "             height:  80%;\n",
       "        }    #T_e05440fe_ba3b_11e7_8769_50465d539de6row5_col1 {\n",
       "            width:  10em;\n",
       "             height:  80%;\n",
       "        }    #T_e05440fe_ba3b_11e7_8769_50465d539de6row6_col0 {\n",
       "            width:  10em;\n",
       "             height:  80%;\n",
       "            background:  linear-gradient(90deg,#d65f5f 21.6%, transparent 0%);\n",
       "        }    #T_e05440fe_ba3b_11e7_8769_50465d539de6row6_col1 {\n",
       "            width:  10em;\n",
       "             height:  80%;\n",
       "            background:  linear-gradient(90deg,#d65f5f 24.1%, transparent 0%);\n",
       "        }    #T_e05440fe_ba3b_11e7_8769_50465d539de6row7_col0 {\n",
       "            width:  10em;\n",
       "             height:  80%;\n",
       "            background:  linear-gradient(90deg,#d65f5f 50.3%, transparent 0%);\n",
       "        }    #T_e05440fe_ba3b_11e7_8769_50465d539de6row7_col1 {\n",
       "            width:  10em;\n",
       "             height:  80%;\n",
       "            background:  linear-gradient(90deg,#d65f5f 53.7%, transparent 0%);\n",
       "        }    #T_e05440fe_ba3b_11e7_8769_50465d539de6row8_col0 {\n",
       "            width:  10em;\n",
       "             height:  80%;\n",
       "            background:  linear-gradient(90deg,#d65f5f 66.2%, transparent 0%);\n",
       "        }    #T_e05440fe_ba3b_11e7_8769_50465d539de6row8_col1 {\n",
       "            width:  10em;\n",
       "             height:  80%;\n",
       "            background:  linear-gradient(90deg,#d65f5f 68.9%, transparent 0%);\n",
       "        }    #T_e05440fe_ba3b_11e7_8769_50465d539de6row9_col0 {\n",
       "            width:  10em;\n",
       "             height:  80%;\n",
       "            background:  linear-gradient(90deg,#d65f5f 67.7%, transparent 0%);\n",
       "        }    #T_e05440fe_ba3b_11e7_8769_50465d539de6row9_col1 {\n",
       "            width:  10em;\n",
       "             height:  80%;\n",
       "            background:  linear-gradient(90deg,#d65f5f 69.7%, transparent 0%);\n",
       "        }    #T_e05440fe_ba3b_11e7_8769_50465d539de6row10_col0 {\n",
       "            width:  10em;\n",
       "             height:  80%;\n",
       "            background:  linear-gradient(90deg,#d65f5f 66.6%, transparent 0%);\n",
       "        }    #T_e05440fe_ba3b_11e7_8769_50465d539de6row10_col1 {\n",
       "            width:  10em;\n",
       "             height:  80%;\n",
       "            background:  linear-gradient(90deg,#d65f5f 66.7%, transparent 0%);\n",
       "        }    #T_e05440fe_ba3b_11e7_8769_50465d539de6row11_col0 {\n",
       "            width:  10em;\n",
       "             height:  80%;\n",
       "            background:  linear-gradient(90deg,#d65f5f 71.0%, transparent 0%);\n",
       "        }    #T_e05440fe_ba3b_11e7_8769_50465d539de6row11_col1 {\n",
       "            width:  10em;\n",
       "             height:  80%;\n",
       "            background:  linear-gradient(90deg,#d65f5f 70.7%, transparent 0%);\n",
       "        }    #T_e05440fe_ba3b_11e7_8769_50465d539de6row12_col0 {\n",
       "            width:  10em;\n",
       "             height:  80%;\n",
       "            background:  linear-gradient(90deg,#d65f5f 75.6%, transparent 0%);\n",
       "        }    #T_e05440fe_ba3b_11e7_8769_50465d539de6row12_col1 {\n",
       "            width:  10em;\n",
       "             height:  80%;\n",
       "            background:  linear-gradient(90deg,#d65f5f 75.2%, transparent 0%);\n",
       "        }    #T_e05440fe_ba3b_11e7_8769_50465d539de6row13_col0 {\n",
       "            width:  10em;\n",
       "             height:  80%;\n",
       "            background:  linear-gradient(90deg,#d65f5f 75.5%, transparent 0%);\n",
       "        }    #T_e05440fe_ba3b_11e7_8769_50465d539de6row13_col1 {\n",
       "            width:  10em;\n",
       "             height:  80%;\n",
       "            background:  linear-gradient(90deg,#d65f5f 74.7%, transparent 0%);\n",
       "        }    #T_e05440fe_ba3b_11e7_8769_50465d539de6row14_col0 {\n",
       "            width:  10em;\n",
       "             height:  80%;\n",
       "            background:  linear-gradient(90deg,#d65f5f 79.8%, transparent 0%);\n",
       "        }    #T_e05440fe_ba3b_11e7_8769_50465d539de6row14_col1 {\n",
       "            width:  10em;\n",
       "             height:  80%;\n",
       "            background:  linear-gradient(90deg,#d65f5f 78.4%, transparent 0%);\n",
       "        }    #T_e05440fe_ba3b_11e7_8769_50465d539de6row15_col0 {\n",
       "            width:  10em;\n",
       "             height:  80%;\n",
       "            background:  linear-gradient(90deg,#d65f5f 75.8%, transparent 0%);\n",
       "        }    #T_e05440fe_ba3b_11e7_8769_50465d539de6row15_col1 {\n",
       "            width:  10em;\n",
       "             height:  80%;\n",
       "            background:  linear-gradient(90deg,#d65f5f 75.1%, transparent 0%);\n",
       "        }    #T_e05440fe_ba3b_11e7_8769_50465d539de6row16_col0 {\n",
       "            width:  10em;\n",
       "             height:  80%;\n",
       "            background:  linear-gradient(90deg,#d65f5f 66.2%, transparent 0%);\n",
       "        }    #T_e05440fe_ba3b_11e7_8769_50465d539de6row16_col1 {\n",
       "            width:  10em;\n",
       "             height:  80%;\n",
       "            background:  linear-gradient(90deg,#d65f5f 65.2%, transparent 0%);\n",
       "        }    #T_e05440fe_ba3b_11e7_8769_50465d539de6row17_col0 {\n",
       "            width:  10em;\n",
       "             height:  80%;\n",
       "            background:  linear-gradient(90deg,#d65f5f 81.5%, transparent 0%);\n",
       "        }    #T_e05440fe_ba3b_11e7_8769_50465d539de6row17_col1 {\n",
       "            width:  10em;\n",
       "             height:  80%;\n",
       "            background:  linear-gradient(90deg,#d65f5f 81.3%, transparent 0%);\n",
       "        }    #T_e05440fe_ba3b_11e7_8769_50465d539de6row18_col0 {\n",
       "            width:  10em;\n",
       "             height:  80%;\n",
       "            background:  linear-gradient(90deg,#d65f5f 100.0%, transparent 0%);\n",
       "        }    #T_e05440fe_ba3b_11e7_8769_50465d539de6row18_col1 {\n",
       "            width:  10em;\n",
       "             height:  80%;\n",
       "            background:  linear-gradient(90deg,#d65f5f 100.0%, transparent 0%);\n",
       "        }    #T_e05440fe_ba3b_11e7_8769_50465d539de6row19_col0 {\n",
       "            width:  10em;\n",
       "             height:  80%;\n",
       "            background:  linear-gradient(90deg,#d65f5f 99.7%, transparent 0%);\n",
       "        }    #T_e05440fe_ba3b_11e7_8769_50465d539de6row19_col1 {\n",
       "            width:  10em;\n",
       "             height:  80%;\n",
       "            background:  linear-gradient(90deg,#d65f5f 99.6%, transparent 0%);\n",
       "        }    #T_e05440fe_ba3b_11e7_8769_50465d539de6row20_col0 {\n",
       "            width:  10em;\n",
       "             height:  80%;\n",
       "            background:  linear-gradient(90deg,#d65f5f 92.0%, transparent 0%);\n",
       "        }    #T_e05440fe_ba3b_11e7_8769_50465d539de6row20_col1 {\n",
       "            width:  10em;\n",
       "             height:  80%;\n",
       "            background:  linear-gradient(90deg,#d65f5f 91.4%, transparent 0%);\n",
       "        }    #T_e05440fe_ba3b_11e7_8769_50465d539de6row21_col0 {\n",
       "            width:  10em;\n",
       "             height:  80%;\n",
       "            background:  linear-gradient(90deg,#d65f5f 93.2%, transparent 0%);\n",
       "        }    #T_e05440fe_ba3b_11e7_8769_50465d539de6row21_col1 {\n",
       "            width:  10em;\n",
       "             height:  80%;\n",
       "            background:  linear-gradient(90deg,#d65f5f 91.5%, transparent 0%);\n",
       "        }    #T_e05440fe_ba3b_11e7_8769_50465d539de6row22_col0 {\n",
       "            width:  10em;\n",
       "             height:  80%;\n",
       "            background:  linear-gradient(90deg,#d65f5f 88.9%, transparent 0%);\n",
       "        }    #T_e05440fe_ba3b_11e7_8769_50465d539de6row22_col1 {\n",
       "            width:  10em;\n",
       "             height:  80%;\n",
       "            background:  linear-gradient(90deg,#d65f5f 86.6%, transparent 0%);\n",
       "        }    #T_e05440fe_ba3b_11e7_8769_50465d539de6row23_col0 {\n",
       "            width:  10em;\n",
       "             height:  80%;\n",
       "            background:  linear-gradient(90deg,#d65f5f 74.5%, transparent 0%);\n",
       "        }    #T_e05440fe_ba3b_11e7_8769_50465d539de6row23_col1 {\n",
       "            width:  10em;\n",
       "             height:  80%;\n",
       "            background:  linear-gradient(90deg,#d65f5f 72.5%, transparent 0%);\n",
       "        }</style>  \n",
       "<table id=\"T_e05440fe_ba3b_11e7_8769_50465d539de6\" > \n",
       "<thead>    <tr> \n",
       "        <th class=\"blank level0\" ></th> \n",
       "        <th class=\"col_heading level0 col0\" >passenger_count</th> \n",
       "        <th class=\"col_heading level0 col1\" >Trip_cunt</th> \n",
       "    </tr>    <tr> \n",
       "        <th class=\"index_name level0\" >Hour</th> \n",
       "        <th class=\"blank\" ></th> \n",
       "        <th class=\"blank\" ></th> \n",
       "    </tr></thead> \n",
       "<tbody>    <tr> \n",
       "        <th id=\"T_e05440fe_ba3b_11e7_8769_50465d539de6level0_row0\" class=\"row_heading level0 row0\" >0</th> \n",
       "        <td id=\"T_e05440fe_ba3b_11e7_8769_50465d539de6row0_col0\" class=\"data row0 col0\" >90041</td> \n",
       "        <td id=\"T_e05440fe_ba3b_11e7_8769_50465d539de6row0_col1\" class=\"data row0 col1\" >53248</td> \n",
       "    </tr>    <tr> \n",
       "        <th id=\"T_e05440fe_ba3b_11e7_8769_50465d539de6level0_row1\" class=\"row_heading level0 row1\" >1</th> \n",
       "        <td id=\"T_e05440fe_ba3b_11e7_8769_50465d539de6row1_col0\" class=\"data row1 col0\" >65933</td> \n",
       "        <td id=\"T_e05440fe_ba3b_11e7_8769_50465d539de6row1_col1\" class=\"data row1 col1\" >38571</td> \n",
       "    </tr>    <tr> \n",
       "        <th id=\"T_e05440fe_ba3b_11e7_8769_50465d539de6level0_row2\" class=\"row_heading level0 row2\" >2</th> \n",
       "        <td id=\"T_e05440fe_ba3b_11e7_8769_50465d539de6row2_col0\" class=\"data row2 col0\" >47685</td> \n",
       "        <td id=\"T_e05440fe_ba3b_11e7_8769_50465d539de6row2_col1\" class=\"data row2 col1\" >27972</td> \n",
       "    </tr>    <tr> \n",
       "        <th id=\"T_e05440fe_ba3b_11e7_8769_50465d539de6level0_row3\" class=\"row_heading level0 row3\" >3</th> \n",
       "        <td id=\"T_e05440fe_ba3b_11e7_8769_50465d539de6row3_col0\" class=\"data row3 col0\" >35644</td> \n",
       "        <td id=\"T_e05440fe_ba3b_11e7_8769_50465d539de6row3_col1\" class=\"data row3 col1\" >20895</td> \n",
       "    </tr>    <tr> \n",
       "        <th id=\"T_e05440fe_ba3b_11e7_8769_50465d539de6level0_row4\" class=\"row_heading level0 row4\" >4</th> \n",
       "        <td id=\"T_e05440fe_ba3b_11e7_8769_50465d539de6row4_col0\" class=\"data row4 col0\" >26914</td> \n",
       "        <td id=\"T_e05440fe_ba3b_11e7_8769_50465d539de6row4_col1\" class=\"data row4 col1\" >15792</td> \n",
       "    </tr>    <tr> \n",
       "        <th id=\"T_e05440fe_ba3b_11e7_8769_50465d539de6level0_row5\" class=\"row_heading level0 row5\" >5</th> \n",
       "        <td id=\"T_e05440fe_ba3b_11e7_8769_50465d539de6row5_col0\" class=\"data row5 col0\" >23661</td> \n",
       "        <td id=\"T_e05440fe_ba3b_11e7_8769_50465d539de6row5_col1\" class=\"data row5 col1\" >15002</td> \n",
       "    </tr>    <tr> \n",
       "        <th id=\"T_e05440fe_ba3b_11e7_8769_50465d539de6level0_row6\" class=\"row_heading level0 row6\" >6</th> \n",
       "        <td id=\"T_e05440fe_ba3b_11e7_8769_50465d539de6row6_col0\" class=\"data row6 col0\" >51101</td> \n",
       "        <td id=\"T_e05440fe_ba3b_11e7_8769_50465d539de6row6_col1\" class=\"data row6 col1\" >33248</td> \n",
       "    </tr>    <tr> \n",
       "        <th id=\"T_e05440fe_ba3b_11e7_8769_50465d539de6level0_row7\" class=\"row_heading level0 row7\" >7</th> \n",
       "        <td id=\"T_e05440fe_ba3b_11e7_8769_50465d539de6row7_col0\" class=\"data row7 col0\" >87607</td> \n",
       "        <td id=\"T_e05440fe_ba3b_11e7_8769_50465d539de6row7_col1\" class=\"data row7 col1\" >55600</td> \n",
       "    </tr>    <tr> \n",
       "        <th id=\"T_e05440fe_ba3b_11e7_8769_50465d539de6level0_row8\" class=\"row_heading level0 row8\" >8</th> \n",
       "        <td id=\"T_e05440fe_ba3b_11e7_8769_50465d539de6row8_col0\" class=\"data row8 col0\" >107867</td> \n",
       "        <td id=\"T_e05440fe_ba3b_11e7_8769_50465d539de6row8_col1\" class=\"data row8 col1\" >67053</td> \n",
       "    </tr>    <tr> \n",
       "        <th id=\"T_e05440fe_ba3b_11e7_8769_50465d539de6level0_row9\" class=\"row_heading level0 row9\" >9</th> \n",
       "        <td id=\"T_e05440fe_ba3b_11e7_8769_50465d539de6row9_col0\" class=\"data row9 col0\" >109825</td> \n",
       "        <td id=\"T_e05440fe_ba3b_11e7_8769_50465d539de6row9_col1\" class=\"data row9 col1\" >67663</td> \n",
       "    </tr>    <tr> \n",
       "        <th id=\"T_e05440fe_ba3b_11e7_8769_50465d539de6level0_row10\" class=\"row_heading level0 row10\" >10</th> \n",
       "        <td id=\"T_e05440fe_ba3b_11e7_8769_50465d539de6row10_col0\" class=\"data row10 col0\" >108329</td> \n",
       "        <td id=\"T_e05440fe_ba3b_11e7_8769_50465d539de6row10_col1\" class=\"data row10 col1\" >65437</td> \n",
       "    </tr>    <tr> \n",
       "        <th id=\"T_e05440fe_ba3b_11e7_8769_50465d539de6level0_row11\" class=\"row_heading level0 row11\" >11</th> \n",
       "        <td id=\"T_e05440fe_ba3b_11e7_8769_50465d539de6row11_col0\" class=\"data row11 col0\" >114024</td> \n",
       "        <td id=\"T_e05440fe_ba3b_11e7_8769_50465d539de6row11_col1\" class=\"data row11 col1\" >68476</td> \n",
       "    </tr>    <tr> \n",
       "        <th id=\"T_e05440fe_ba3b_11e7_8769_50465d539de6level0_row12\" class=\"row_heading level0 row12\" >12</th> \n",
       "        <td id=\"T_e05440fe_ba3b_11e7_8769_50465d539de6row12_col0\" class=\"data row12 col0\" >119794</td> \n",
       "        <td id=\"T_e05440fe_ba3b_11e7_8769_50465d539de6row12_col1\" class=\"data row12 col1\" >71873</td> \n",
       "    </tr>    <tr> \n",
       "        <th id=\"T_e05440fe_ba3b_11e7_8769_50465d539de6level0_row13\" class=\"row_heading level0 row13\" >13</th> \n",
       "        <td id=\"T_e05440fe_ba3b_11e7_8769_50465d539de6row13_col0\" class=\"data row13 col0\" >119640</td> \n",
       "        <td id=\"T_e05440fe_ba3b_11e7_8769_50465d539de6row13_col1\" class=\"data row13 col1\" >71473</td> \n",
       "    </tr>    <tr> \n",
       "        <th id=\"T_e05440fe_ba3b_11e7_8769_50465d539de6level0_row14\" class=\"row_heading level0 row14\" >14</th> \n",
       "        <td id=\"T_e05440fe_ba3b_11e7_8769_50465d539de6row14_col0\" class=\"data row14 col0\" >125122</td> \n",
       "        <td id=\"T_e05440fe_ba3b_11e7_8769_50465d539de6row14_col1\" class=\"data row14 col1\" >74292</td> \n",
       "    </tr>    <tr> \n",
       "        <th id=\"T_e05440fe_ba3b_11e7_8769_50465d539de6level0_row15\" class=\"row_heading level0 row15\" >15</th> \n",
       "        <td id=\"T_e05440fe_ba3b_11e7_8769_50465d539de6row15_col0\" class=\"data row15 col0\" >120108</td> \n",
       "        <td id=\"T_e05440fe_ba3b_11e7_8769_50465d539de6row15_col1\" class=\"data row15 col1\" >71811</td> \n",
       "    </tr>    <tr> \n",
       "        <th id=\"T_e05440fe_ba3b_11e7_8769_50465d539de6level0_row16\" class=\"row_heading level0 row16\" >16</th> \n",
       "        <td id=\"T_e05440fe_ba3b_11e7_8769_50465d539de6row16_col0\" class=\"data row16 col0\" >107870</td> \n",
       "        <td id=\"T_e05440fe_ba3b_11e7_8769_50465d539de6row16_col1\" class=\"data row16 col1\" >64313</td> \n",
       "    </tr>    <tr> \n",
       "        <th id=\"T_e05440fe_ba3b_11e7_8769_50465d539de6level0_row17\" class=\"row_heading level0 row17\" >17</th> \n",
       "        <td id=\"T_e05440fe_ba3b_11e7_8769_50465d539de6row17_col0\" class=\"data row17 col0\" >127354</td> \n",
       "        <td id=\"T_e05440fe_ba3b_11e7_8769_50465d539de6row17_col1\" class=\"data row17 col1\" >76483</td> \n",
       "    </tr>    <tr> \n",
       "        <th id=\"T_e05440fe_ba3b_11e7_8769_50465d539de6level0_row18\" class=\"row_heading level0 row18\" >18</th> \n",
       "        <td id=\"T_e05440fe_ba3b_11e7_8769_50465d539de6row18_col0\" class=\"data row18 col0\" >150858</td> \n",
       "        <td id=\"T_e05440fe_ba3b_11e7_8769_50465d539de6row18_col1\" class=\"data row18 col1\" >90600</td> \n",
       "    </tr>    <tr> \n",
       "        <th id=\"T_e05440fe_ba3b_11e7_8769_50465d539de6level0_row19\" class=\"row_heading level0 row19\" >19</th> \n",
       "        <td id=\"T_e05440fe_ba3b_11e7_8769_50465d539de6row19_col0\" class=\"data row19 col0\" >150472</td> \n",
       "        <td id=\"T_e05440fe_ba3b_11e7_8769_50465d539de6row19_col1\" class=\"data row19 col1\" >90308</td> \n",
       "    </tr>    <tr> \n",
       "        <th id=\"T_e05440fe_ba3b_11e7_8769_50465d539de6level0_row20\" class=\"row_heading level0 row20\" >20</th> \n",
       "        <td id=\"T_e05440fe_ba3b_11e7_8769_50465d539de6row20_col0\" class=\"data row20 col0\" >140721</td> \n",
       "        <td id=\"T_e05440fe_ba3b_11e7_8769_50465d539de6row20_col1\" class=\"data row20 col1\" >84072</td> \n",
       "    </tr>    <tr> \n",
       "        <th id=\"T_e05440fe_ba3b_11e7_8769_50465d539de6level0_row21\" class=\"row_heading level0 row21\" >21</th> \n",
       "        <td id=\"T_e05440fe_ba3b_11e7_8769_50465d539de6row21_col0\" class=\"data row21 col0\" >142215</td> \n",
       "        <td id=\"T_e05440fe_ba3b_11e7_8769_50465d539de6row21_col1\" class=\"data row21 col1\" >84185</td> \n",
       "    </tr>    <tr> \n",
       "        <th id=\"T_e05440fe_ba3b_11e7_8769_50465d539de6level0_row22\" class=\"row_heading level0 row22\" >22</th> \n",
       "        <td id=\"T_e05440fe_ba3b_11e7_8769_50465d539de6row22_col0\" class=\"data row22 col0\" >136757</td> \n",
       "        <td id=\"T_e05440fe_ba3b_11e7_8769_50465d539de6row22_col1\" class=\"data row22 col1\" >80492</td> \n",
       "    </tr>    <tr> \n",
       "        <th id=\"T_e05440fe_ba3b_11e7_8769_50465d539de6level0_row23\" class=\"row_heading level0 row23\" >23</th> \n",
       "        <td id=\"T_e05440fe_ba3b_11e7_8769_50465d539de6row23_col0\" class=\"data row23 col0\" >118414</td> \n",
       "        <td id=\"T_e05440fe_ba3b_11e7_8769_50465d539de6row23_col1\" class=\"data row23 col1\" >69785</td> \n",
       "    </tr></tbody> \n",
       "</table> "
      ],
      "text/plain": [
       "<pandas.io.formats.style.Styler at 0x250a4b4438>"
      ]
     },
     "execution_count": 66,
     "metadata": {},
     "output_type": "execute_result"
    }
   ],
   "source": [
    "#df1.passenger_count = df1.passenger_count/df1.passenger_count.mean()\n",
    "#df1.Trip_cunt = df1.Trip_cunt/df1.Trip_cunt.mean()\n",
    "df1.style.bar()"
   ]
  },
  {
   "cell_type": "code",
   "execution_count": 62,
   "metadata": {},
   "outputs": [
    {
     "data": {
      "image/png": "[encoded data removed]",
      "text/plain": [
       "<matplotlib.figure.Figure at 0x25035c4898>"
      ]
     },
     "metadata": {},
     "output_type": "display_data"
    }
   ],
   "source": [
    "df1.plot();"
   ]
  },
  {
   "cell_type": "code",
   "execution_count": null,
   "metadata": {},
   "outputs": [],
   "source": [
    "   "
   ]
  },
  {
   "cell_type": "markdown",
   "metadata": {},
   "source": [
    "Узнаем распределение количества пассажиров в одной поездке и продолжительности поездок"
   ]
  },
  {
   "cell_type": "code",
   "execution_count": 93,
   "metadata": {},
   "outputs": [
    {
     "data": {
      "text/plain": [
       "<matplotlib.axes._subplots.AxesSubplot at 0x251820dba8>"
      ]
     },
     "execution_count": 93,
     "metadata": {},
     "output_type": "execute_result"
    },
    {
     "data": {
      "image/png": "[encoded data removed]",
      "text/plain": [
       "<matplotlib.figure.Figure at 0x25131c13c8>"
      ]
     },
     "metadata": {},
     "output_type": "display_data"
    }
   ],
   "source": [
    "sns.boxplot(data=df, x = 'passenger_count')"
   ]
  },
  {
   "cell_type": "code",
   "execution_count": 94,
   "metadata": {},
   "outputs": [
    {
     "data": {
      "text/plain": [
       "<matplotlib.axes._subplots.AxesSubplot at 0x25131de5f8>"
      ]
     },
     "execution_count": 94,
     "metadata": {},
     "output_type": "execute_result"
    },
    {
     "data": {
      "image/png": "[encoded data removed]",
      "text/plain": [
       "<matplotlib.figure.Figure at 0x25131ce1d0>"
      ]
     },
     "metadata": {},
     "output_type": "display_data"
    }
   ],
   "source": [
    "sns.boxplot(data=df, x = 'trip_duration')"
   ]
  },
  {
   "cell_type": "code",
   "execution_count": 95,
   "metadata": {},
   "outputs": [
    {
     "data": {
      "image/png": "[encoded data removed]",
      "text/plain": [
       "<matplotlib.figure.Figure at 0x2513868b00>"
      ]
     },
     "metadata": {},
     "output_type": "display_data"
    }
   ],
   "source": [
    "# c svg pairplot браузер начинает тормозить\n",
    "%config InlineBackend.figure_format = 'png' \n",
    "sns_plot = sns.pairplot(\n",
    "    df[['vendor_id', 'passenger_count', 'trip_duration']]);\n",
    "sns_plot.savefig('pairplot.png')"
   ]
  },
  {
   "cell_type": "code",
   "execution_count": 96,
   "metadata": {},
   "outputs": [
    {
     "data": {
      "image/png": "[encoded data removed]",
      "text/plain": [
       "<matplotlib.figure.Figure at 0x250a539ba8>"
      ]
     },
     "metadata": {},
     "output_type": "display_data"
    }
   ],
   "source": [
    "sns.jointplot(x='trip_duration', y='Hour', \n",
    "              data=df, kind='reg');"
   ]
  },
  {
   "cell_type": "code",
   "execution_count": 97,
   "metadata": {},
   "outputs": [
    {
     "data": {
      "text/html": [
       "<div>\n",
       "<style>\n",
       "    .dataframe thead tr:only-child th {\n",
       "        text-align: right;\n",
       "    }\n",
       "\n",
       "    .dataframe thead th {\n",
       "        text-align: left;\n",
       "    }\n",
       "\n",
       "    .dataframe tbody tr th {\n",
       "        vertical-align: top;\n",
       "    }\n",
       "</style>\n",
       "<table border=\"1\" class=\"dataframe\">\n",
       "  <thead>\n",
       "    <tr style=\"text-align: right;\">\n",
       "      <th></th>\n",
       "      <th>id</th>\n",
       "      <th>passenger_count</th>\n",
       "    </tr>\n",
       "    <tr>\n",
       "      <th>Hour</th>\n",
       "      <th></th>\n",
       "      <th></th>\n",
       "    </tr>\n",
       "  </thead>\n",
       "  <tbody>\n",
       "    <tr>\n",
       "      <th>0</th>\n",
       "      <td>53248</td>\n",
       "      <td>90041</td>\n",
       "    </tr>\n",
       "    <tr>\n",
       "      <th>1</th>\n",
       "      <td>38571</td>\n",
       "      <td>65933</td>\n",
       "    </tr>\n",
       "    <tr>\n",
       "      <th>2</th>\n",
       "      <td>27972</td>\n",
       "      <td>47685</td>\n",
       "    </tr>\n",
       "    <tr>\n",
       "      <th>3</th>\n",
       "      <td>20895</td>\n",
       "      <td>35644</td>\n",
       "    </tr>\n",
       "    <tr>\n",
       "      <th>4</th>\n",
       "      <td>15792</td>\n",
       "      <td>26914</td>\n",
       "    </tr>\n",
       "  </tbody>\n",
       "</table>\n",
       "</div>"
      ],
      "text/plain": [
       "         id  passenger_count\n",
       "Hour                        \n",
       "0     53248            90041\n",
       "1     38571            65933\n",
       "2     27972            47685\n",
       "3     20895            35644\n",
       "4     15792            26914"
      ]
     },
     "execution_count": 97,
     "metadata": {},
     "output_type": "execute_result"
    }
   ],
   "source": [
    "df3 = df.groupby('Hour')[['id']].count()\n",
    "df3['passenger_count'] = df.groupby('Hour')[['passenger_count']].sum()\n",
    "df3.head()"
   ]
  },
  {
   "cell_type": "code",
   "execution_count": 98,
   "metadata": {},
   "outputs": [
    {
     "data": {
      "text/html": [
       "<div>\n",
       "<style>\n",
       "    .dataframe thead tr:only-child th {\n",
       "        text-align: right;\n",
       "    }\n",
       "\n",
       "    .dataframe thead th {\n",
       "        text-align: left;\n",
       "    }\n",
       "\n",
       "    .dataframe tbody tr th {\n",
       "        vertical-align: top;\n",
       "    }\n",
       "</style>\n",
       "<table border=\"1\" class=\"dataframe\">\n",
       "  <thead>\n",
       "    <tr style=\"text-align: right;\">\n",
       "      <th></th>\n",
       "      <th>Hour</th>\n",
       "      <th>id</th>\n",
       "      <th>passenger_count</th>\n",
       "    </tr>\n",
       "  </thead>\n",
       "  <tbody>\n",
       "    <tr>\n",
       "      <th>0</th>\n",
       "      <td>0</td>\n",
       "      <td>53248</td>\n",
       "      <td>90041</td>\n",
       "    </tr>\n",
       "    <tr>\n",
       "      <th>1</th>\n",
       "      <td>1</td>\n",
       "      <td>38571</td>\n",
       "      <td>65933</td>\n",
       "    </tr>\n",
       "    <tr>\n",
       "      <th>2</th>\n",
       "      <td>2</td>\n",
       "      <td>27972</td>\n",
       "      <td>47685</td>\n",
       "    </tr>\n",
       "    <tr>\n",
       "      <th>3</th>\n",
       "      <td>3</td>\n",
       "      <td>20895</td>\n",
       "      <td>35644</td>\n",
       "    </tr>\n",
       "    <tr>\n",
       "      <th>4</th>\n",
       "      <td>4</td>\n",
       "      <td>15792</td>\n",
       "      <td>26914</td>\n",
       "    </tr>\n",
       "    <tr>\n",
       "      <th>5</th>\n",
       "      <td>5</td>\n",
       "      <td>15002</td>\n",
       "      <td>23661</td>\n",
       "    </tr>\n",
       "    <tr>\n",
       "      <th>6</th>\n",
       "      <td>6</td>\n",
       "      <td>33248</td>\n",
       "      <td>51101</td>\n",
       "    </tr>\n",
       "    <tr>\n",
       "      <th>7</th>\n",
       "      <td>7</td>\n",
       "      <td>55600</td>\n",
       "      <td>87607</td>\n",
       "    </tr>\n",
       "    <tr>\n",
       "      <th>8</th>\n",
       "      <td>8</td>\n",
       "      <td>67053</td>\n",
       "      <td>107867</td>\n",
       "    </tr>\n",
       "    <tr>\n",
       "      <th>9</th>\n",
       "      <td>9</td>\n",
       "      <td>67663</td>\n",
       "      <td>109825</td>\n",
       "    </tr>\n",
       "    <tr>\n",
       "      <th>10</th>\n",
       "      <td>10</td>\n",
       "      <td>65437</td>\n",
       "      <td>108329</td>\n",
       "    </tr>\n",
       "    <tr>\n",
       "      <th>11</th>\n",
       "      <td>11</td>\n",
       "      <td>68476</td>\n",
       "      <td>114024</td>\n",
       "    </tr>\n",
       "    <tr>\n",
       "      <th>12</th>\n",
       "      <td>12</td>\n",
       "      <td>71873</td>\n",
       "      <td>119794</td>\n",
       "    </tr>\n",
       "    <tr>\n",
       "      <th>13</th>\n",
       "      <td>13</td>\n",
       "      <td>71473</td>\n",
       "      <td>119640</td>\n",
       "    </tr>\n",
       "    <tr>\n",
       "      <th>14</th>\n",
       "      <td>14</td>\n",
       "      <td>74292</td>\n",
       "      <td>125122</td>\n",
       "    </tr>\n",
       "    <tr>\n",
       "      <th>15</th>\n",
       "      <td>15</td>\n",
       "      <td>71811</td>\n",
       "      <td>120108</td>\n",
       "    </tr>\n",
       "    <tr>\n",
       "      <th>16</th>\n",
       "      <td>16</td>\n",
       "      <td>64313</td>\n",
       "      <td>107870</td>\n",
       "    </tr>\n",
       "    <tr>\n",
       "      <th>17</th>\n",
       "      <td>17</td>\n",
       "      <td>76483</td>\n",
       "      <td>127354</td>\n",
       "    </tr>\n",
       "    <tr>\n",
       "      <th>18</th>\n",
       "      <td>18</td>\n",
       "      <td>90600</td>\n",
       "      <td>150858</td>\n",
       "    </tr>\n",
       "    <tr>\n",
       "      <th>19</th>\n",
       "      <td>19</td>\n",
       "      <td>90308</td>\n",
       "      <td>150472</td>\n",
       "    </tr>\n",
       "    <tr>\n",
       "      <th>20</th>\n",
       "      <td>20</td>\n",
       "      <td>84072</td>\n",
       "      <td>140721</td>\n",
       "    </tr>\n",
       "    <tr>\n",
       "      <th>21</th>\n",
       "      <td>21</td>\n",
       "      <td>84185</td>\n",
       "      <td>142215</td>\n",
       "    </tr>\n",
       "    <tr>\n",
       "      <th>22</th>\n",
       "      <td>22</td>\n",
       "      <td>80492</td>\n",
       "      <td>136757</td>\n",
       "    </tr>\n",
       "    <tr>\n",
       "      <th>23</th>\n",
       "      <td>23</td>\n",
       "      <td>69785</td>\n",
       "      <td>118414</td>\n",
       "    </tr>\n",
       "  </tbody>\n",
       "</table>\n",
       "</div>"
      ],
      "text/plain": [
       "    Hour     id  passenger_count\n",
       "0      0  53248            90041\n",
       "1      1  38571            65933\n",
       "2      2  27972            47685\n",
       "3      3  20895            35644\n",
       "4      4  15792            26914\n",
       "5      5  15002            23661\n",
       "6      6  33248            51101\n",
       "7      7  55600            87607\n",
       "8      8  67053           107867\n",
       "9      9  67663           109825\n",
       "10    10  65437           108329\n",
       "11    11  68476           114024\n",
       "12    12  71873           119794\n",
       "13    13  71473           119640\n",
       "14    14  74292           125122\n",
       "15    15  71811           120108\n",
       "16    16  64313           107870\n",
       "17    17  76483           127354\n",
       "18    18  90600           150858\n",
       "19    19  90308           150472\n",
       "20    20  84072           140721\n",
       "21    21  84185           142215\n",
       "22    22  80492           136757\n",
       "23    23  69785           118414"
      ]
     },
     "execution_count": 98,
     "metadata": {},
     "output_type": "execute_result"
    }
   ],
   "source": [
    "df3.reset_index()"
   ]
  },
  {
   "cell_type": "code",
   "execution_count": null,
   "metadata": {
    "collapsed": true
   },
   "outputs": [],
   "source": []
  },
  {
   "cell_type": "code",
   "execution_count": 99,
   "metadata": {},
   "outputs": [
    {
     "data": {
      "text/html": [
       "<script>requirejs.config({paths: { 'plotly': ['https://cdn.plot.ly/plotly-latest.min']},});if(!window.Plotly) {{require(['plotly'],function(plotly) {window.Plotly=plotly;});}}</script>"
      ],
      "text/vnd.plotly.v1+html": [
       "<script>requirejs.config({paths: { 'plotly': ['https://cdn.plot.ly/plotly-latest.min']},});if(!window.Plotly) {{require(['plotly'],function(plotly) {window.Plotly=plotly;});}}</script>"
      ]
     },
     "metadata": {},
     "output_type": "display_data"
    }
   ],
   "source": [
    "from plotly.offline import init_notebook_mode, iplot\n",
    "import plotly\n",
    "import plotly.graph_objs as go\n",
    "\n",
    "init_notebook_mode(connected=True)"
   ]
  },
  {
   "cell_type": "code",
   "execution_count": 100,
   "metadata": {},
   "outputs": [
    {
     "data": {
      "application/vnd.plotly.v1+json": {
       "data": [
        {
         "name": "Trip count",
         "type": "scatter",
         "x": [
          0,
          1,
          2,
          3,
          4,
          5,
          6,
          7,
          8,
          9,
          10,
          11,
          12,
          13,
          14,
          15,
          16,
          17,
          18,
          19,
          20,
          21,
          22,
          23
         ],
         "y": [
          53248,
          38571,
          27972,
          20895,
          15792,
          15002,
          33248,
          55600,
          67053,
          67663,
          65437,
          68476,
          71873,
          71473,
          74292,
          71811,
          64313,
          76483,
          90600,
          90308,
          84072,
          84185,
          80492,
          69785
         ]
        },
        {
         "name": "Passenger count",
         "type": "scatter",
         "x": [
          0,
          1,
          2,
          3,
          4,
          5,
          6,
          7,
          8,
          9,
          10,
          11,
          12,
          13,
          14,
          15,
          16,
          17,
          18,
          19,
          20,
          21,
          22,
          23
         ],
         "y": [
          90041,
          65933,
          47685,
          35644,
          26914,
          23661,
          51101,
          87607,
          107867,
          109825,
          108329,
          114024,
          119794,
          119640,
          125122,
          120108,
          107870,
          127354,
          150858,
          150472,
          140721,
          142215,
          136757,
          118414
         ]
        }
       ],
       "layout": {
        "title": " The ratio of the number of trips to the number of passengers"
       }
      },
      "text/html": [
       "<div id=\"23bf7776-2ed5-4685-9c88-3baeef7aeec6\" style=\"height: 525px; width: 100%;\" class=\"plotly-graph-div\"></div><script type=\"text/javascript\">require([\"plotly\"], function(Plotly) { window.PLOTLYENV=window.PLOTLYENV || {};window.PLOTLYENV.BASE_URL=\"https://plot.ly\";Plotly.newPlot(\"23bf7776-2ed5-4685-9c88-3baeef7aeec6\", [{\"type\": \"scatter\", \"x\": [0, 1, 2, 3, 4, 5, 6, 7, 8, 9, 10, 11, 12, 13, 14, 15, 16, 17, 18, 19, 20, 21, 22, 23], \"y\": [53248, 38571, 27972, 20895, 15792, 15002, 33248, 55600, 67053, 67663, 65437, 68476, 71873, 71473, 74292, 71811, 64313, 76483, 90600, 90308, 84072, 84185, 80492, 69785], \"name\": \"Trip count\"}, {\"type\": \"scatter\", \"x\": [0, 1, 2, 3, 4, 5, 6, 7, 8, 9, 10, 11, 12, 13, 14, 15, 16, 17, 18, 19, 20, 21, 22, 23], \"y\": [90041, 65933, 47685, 35644, 26914, 23661, 51101, 87607, 107867, 109825, 108329, 114024, 119794, 119640, 125122, 120108, 107870, 127354, 150858, 150472, 140721, 142215, 136757, 118414], \"name\": \"Passenger count\"}], {\"title\": \" The ratio of the number of trips to the number of passengers\"}, {\"showLink\": true, \"linkText\": \"Export to plot.ly\"})});</script>"
      ],
      "text/vnd.plotly.v1+html": [
       "<div id=\"23bf7776-2ed5-4685-9c88-3baeef7aeec6\" style=\"height: 525px; width: 100%;\" class=\"plotly-graph-div\"></div><script type=\"text/javascript\">require([\"plotly\"], function(Plotly) { window.PLOTLYENV=window.PLOTLYENV || {};window.PLOTLYENV.BASE_URL=\"https://plot.ly\";Plotly.newPlot(\"23bf7776-2ed5-4685-9c88-3baeef7aeec6\", [{\"type\": \"scatter\", \"x\": [0, 1, 2, 3, 4, 5, 6, 7, 8, 9, 10, 11, 12, 13, 14, 15, 16, 17, 18, 19, 20, 21, 22, 23], \"y\": [53248, 38571, 27972, 20895, 15792, 15002, 33248, 55600, 67053, 67663, 65437, 68476, 71873, 71473, 74292, 71811, 64313, 76483, 90600, 90308, 84072, 84185, 80492, 69785], \"name\": \"Trip count\"}, {\"type\": \"scatter\", \"x\": [0, 1, 2, 3, 4, 5, 6, 7, 8, 9, 10, 11, 12, 13, 14, 15, 16, 17, 18, 19, 20, 21, 22, 23], \"y\": [90041, 65933, 47685, 35644, 26914, 23661, 51101, 87607, 107867, 109825, 108329, 114024, 119794, 119640, 125122, 120108, 107870, 127354, 150858, 150472, 140721, 142215, 136757, 118414], \"name\": \"Passenger count\"}], {\"title\": \" The ratio of the number of trips to the number of passengers\"}, {\"showLink\": true, \"linkText\": \"Export to plot.ly\"})});</script>"
      ]
     },
     "metadata": {},
     "output_type": "display_data"
    }
   ],
   "source": [
    "trace0 = go.Scatter(\n",
    "    x=df3.index,\n",
    "    y=df3.id,\n",
    "    name='Trip count'\n",
    ")\n",
    "\n",
    "trace1 = go.Scatter(\n",
    "    x=df3.index,\n",
    "    y=df3.passenger_count,\n",
    "    name='Passenger count'\n",
    ")\n",
    "\n",
    "data = [trace0, trace1]\n",
    "layout = {'title': ' The ratio of the number of trips to the number of passengers'}\n",
    "\n",
    "fig = go.Figure(data=data, layout=layout)\n",
    "\n",
    "iplot(fig) #, show_link=False)"
   ]
  },
  {
   "cell_type": "code",
   "execution_count": null,
   "metadata": {
    "collapsed": true
   },
   "outputs": [],
   "source": []
  },
  {
   "cell_type": "code",
   "execution_count": null,
   "metadata": {
    "collapsed": true
   },
   "outputs": [],
   "source": []
  }
 ],
 "metadata": {
  "kernelspec": {
   "display_name": "Python 3",
   "language": "python",
   "name": "python3"
  },
  "language_info": {
   "codemirror_mode": {
    "name": "ipython",
    "version": 3
   },
   "file_extension": ".py",
   "mimetype": "text/x-python",
   "name": "python",
   "nbconvert_exporter": "python",
   "pygments_lexer": "ipython3",
   "version": "3.6.2"
  }
 },
 "nbformat": 4,
 "nbformat_minor": 2
}
