{
 "cells": [
  {
   "cell_type": "markdown",
   "metadata": {},
   "source": [
    "# Домашнее задание 3\n",
    "\n",
    "## Сбор данных из интернета и генерация текстов\n",
    "\n",
    "В этом домашнем задании вам предстоит: \n",
    "1. выбрать свой источник структурированных данных (прогноз погоды, курс акций, счет спортивных мероприятий, или что-нибудь еще) \n",
    "2. научиться извлекать данные из с выбранной веб-страницы\n",
    "3. научиться генерировать текст по шаблонам"
   ]
  },
  {
   "cell_type": "markdown",
   "metadata": {},
   "source": [
    "## Часть 1\n",
    "\n",
    "Выберете источник данных, который вам симпатичен. Мне симпатичен РП5. Извлеките из html-кода страницы температуру сегодня, уровень осадков и скорость ветра."
   ]
  },
  {
   "cell_type": "code",
   "execution_count": 155,
   "metadata": {
    "collapsed": true
   },
   "outputs": [],
   "source": [
    "import requests\n",
    "from scrapy.selector import Selector\n",
    "from scrapy.http import HtmlResponse, Request\n",
    "import urllib.request"
   ]
  },
  {
   "cell_type": "code",
   "execution_count": 157,
   "metadata": {
    "collapsed": true
   },
   "outputs": [],
   "source": [
    "#url = 'https://rp5.ru/Погода_в_Москве_(юго-запад,_МГУ)'\n",
    "url = 'https://rp5.ru/%D0%9F%D0%BE%D0%B3%D0%BE%D0%B4%D0%B0_%D0%B2_%D0%9C%D0%BE%D1%81%D0%BA%D0%B2%D0%B5_(%D1%8E%D0%B3%D0%BE-%D0%B7%D0%B0%D0%BF%D0%B0%D0%B4,_%D0%9C%D0%93%D0%A3)'"
   ]
  },
  {
   "cell_type": "code",
   "execution_count": 158,
   "metadata": {},
   "outputs": [],
   "source": [
    "req = urllib.request.Request(url, headers={'User-Agent': \"Magic Browser\"})\n",
    "html = urllib.request.urlopen(req).read()\n",
    "html_response = HtmlResponse(url, body=html)"
   ]
  },
  {
   "cell_type": "code",
   "execution_count": 159,
   "metadata": {},
   "outputs": [
    {
     "data": {
      "text/plain": [
       "'Погода на завтра:'"
      ]
     },
     "metadata": {},
     "output_type": "display_data"
    },
    {
     "data": {
      "text/plain": [
       "'Ночью: -2, ощущается как -8, влажность 62%'"
      ]
     },
     "metadata": {},
     "output_type": "display_data"
    },
    {
     "data": {
      "text/plain": [
       "'Днем:  -3, ощущается как -9, влажность 77%'"
      ]
     },
     "metadata": {},
     "output_type": "display_data"
    }
   ],
   "source": [
    "req = urllib.request.Request(url, headers={'User-Agent': \"Magic Browser\"})\n",
    "html = urllib.request.urlopen(req).read()   \n",
    "html_response = HtmlResponse(url, body=html)    \n",
    "DayTemperature = Selector(html_response).xpath(\n",
    "        '//table[@id=\"forecastTable\"]//tr/td[@class=\"d2 underlineRow toplineRow blue\"]//div[@class=\"t_0\"]/b/text()'\n",
    "    ).extract()  \n",
    "NightTemperature = Selector(html_response).xpath(\n",
    "        '//table[@id=\"forecastTable\"]//tr/td[@class=\"n underlineRow toplineRow blue\"]//div[@class=\"t_0\"]/b/text()'\n",
    "    ).extract()    \n",
    "LikeDayTemperature = Selector(html_response).xpath(\n",
    "        '//table[@id=\"forecastTable\"]//tr/td[@class=\"d2 underlineRow blue\"]//div[@class=\"t_0\"]/text()'\n",
    "    ).extract()    \n",
    "LikeNightTemperature = Selector(html_response).xpath(\n",
    "        '//table[@id=\"forecastTable\"]//tr/td[@class=\"n underlineRow blue\"]//div[@class=\"t_0\"]/text()'\n",
    "    ).extract()    \n",
    "Humidity = Selector(html_response).xpath(\n",
    "        '//table[@id=\"forecastTable\"]//tr[@class=\"brief\"]/td/text()'\n",
    "    ).extract() \n",
    "DTemp  = int(DayTemperature[0])\n",
    "NTemp  = int(NightTemperature[0])\n",
    "LDTemp = int(LikeDayTemperature[0])\n",
    "LNTemp = int(LikeNightTemperature[0])\n",
    "DHum   = int(Humidity[3])\n",
    "NHum   = int(Humidity[5])\n",
    "display('Погода на завтра:')\n",
    "display('Ночью: ' + str(NTemp) + ', ощущается как ' + str(LNTemp) + ', влажность ' + str(NHum) + '%')\n",
    "display('Днем:  ' + str(DTemp) + ', ощущается как ' + str(LDTemp) + ', влажность ' + str(DHum) + '%')\n",
    "\n"
   ]
  },
  {
   "cell_type": "code",
   "execution_count": null,
   "metadata": {},
   "outputs": [],
   "source": []
  },
  {
   "cell_type": "markdown",
   "metadata": {},
   "source": [
    "## Часть 2\n",
    "Запрограммируйте шаблон, описывающие температуру, уровень осадков и скорость ветра сегодня. Например,\n",
    "\"Температура сегодня составляет X градусов\", где Х – излеченное выше число. Сгенерируйте таким образом описание погоды сегодня. Учтите, величина X влияет на грамматическое число, использованное в единицах измерения (\"двадцать градусов\", но \"двадцать один градус\"). Используйте бибилиотеку utg или дополнительные функции pymorphy2"
   ]
  },
  {
   "cell_type": "code",
   "execution_count": 160,
   "metadata": {},
   "outputs": [],
   "source": [
    "import pymorphy2\n",
    "morph = pymorphy2.MorphAnalyzer()\n",
    "Gradus = morph.parse('градус')[0] \n",
    "Procent = morph.parse('процент')[0] "
   ]
  },
  {
   "cell_type": "code",
   "execution_count": 162,
   "metadata": {},
   "outputs": [
    {
     "data": {
      "text/plain": [
       "'Погода на завтра:'"
      ]
     },
     "metadata": {},
     "output_type": "display_data"
    },
    {
     "data": {
      "text/plain": [
       "'Ночью: -2 градуса, ощущается как -8 градусов, влажность 62 процента.'"
      ]
     },
     "metadata": {},
     "output_type": "display_data"
    },
    {
     "data": {
      "text/plain": [
       "'Днем: -3 градуса, ощущается как -9 градусов, влажность 77 процентов.'"
      ]
     },
     "metadata": {},
     "output_type": "display_data"
    }
   ],
   "source": [
    "display('Погода на завтра:')\n",
    "display('Ночью: ' + str(NTemp) + ' ' + Gradus.make_agree_with_number(abs(NTemp)).word + \n",
    "        ', ощущается как ' + str(LNTemp) + ' ' + Gradus.make_agree_with_number(abs(LNTemp)).word + \n",
    "        ', влажность ' + str(NHum) + ' ' + Procent.make_agree_with_number(abs(NHum)).word + '.')\n",
    "display('Днем: ' + str(DTemp) + ' ' + Gradus.make_agree_with_number(abs(DTemp)).word + \n",
    "        ', ощущается как ' + str(LDTemp) + ' ' + Gradus.make_agree_with_number(abs(LDTemp)).word + \n",
    "        ', влажность ' + str(DHum) + ' ' + Procent.make_agree_with_number(abs(DHum)).word+ '.')"
   ]
  },
  {
   "cell_type": "code",
   "execution_count": null,
   "metadata": {
    "collapsed": true
   },
   "outputs": [],
   "source": []
  }
 ],
 "metadata": {
  "kernelspec": {
   "display_name": "Python 3",
   "language": "python",
   "name": "python3"
  },
  "language_info": {
   "codemirror_mode": {
    "name": "ipython",
    "version": 3
   },
   "file_extension": ".py",
   "mimetype": "text/x-python",
   "name": "python",
   "nbconvert_exporter": "python",
   "pygments_lexer": "ipython3",
   "version": "3.6.3"
  }
 },
 "nbformat": 4,
 "nbformat_minor": 2
}
