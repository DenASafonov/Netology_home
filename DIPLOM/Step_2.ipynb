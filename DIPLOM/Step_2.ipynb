{
 "cells": [
  {
   "cell_type": "code",
   "execution_count": 1,
   "metadata": {},
   "outputs": [
    {
     "name": "stderr",
     "output_type": "stream",
     "text": [
      "/home/den/anaconda3/lib/python3.6/site-packages/h5py/__init__.py:36: FutureWarning: Conversion of the second argument of issubdtype from `float` to `np.floating` is deprecated. In future, it will be treated as `np.float64 == np.dtype(float).type`.\n",
      "  from ._conv import register_converters as _register_converters\n",
      "Using TensorFlow backend.\n"
     ]
    }
   ],
   "source": [
    "from keras.models import Model\n",
    "from keras.layers import Input, LSTM, Dense\n",
    "import numpy as np\n",
    "import pandas as pd"
   ]
  },
  {
   "cell_type": "code",
   "execution_count": 2,
   "metadata": {},
   "outputs": [],
   "source": [
    "data = pd.read_csv('big_table.csv', sep=',')"
   ]
  },
  {
   "cell_type": "code",
   "execution_count": 3,
   "metadata": {},
   "outputs": [
    {
     "data": {
      "text/html": [
       "<div>\n",
       "<style scoped>\n",
       "    .dataframe tbody tr th:only-of-type {\n",
       "        vertical-align: middle;\n",
       "    }\n",
       "\n",
       "    .dataframe tbody tr th {\n",
       "        vertical-align: top;\n",
       "    }\n",
       "\n",
       "    .dataframe thead th {\n",
       "        text-align: right;\n",
       "    }\n",
       "</style>\n",
       "<table border=\"1\" class=\"dataframe\">\n",
       "  <thead>\n",
       "    <tr style=\"text-align: right;\">\n",
       "      <th></th>\n",
       "      <th>Unnamed: 0</th>\n",
       "      <th>drug_cod</th>\n",
       "      <th>drug_x</th>\n",
       "      <th>provider_code</th>\n",
       "      <th>provider_drug_cod</th>\n",
       "      <th>code</th>\n",
       "      <th>drug_y</th>\n",
       "    </tr>\n",
       "  </thead>\n",
       "  <tbody>\n",
       "    <tr>\n",
       "      <th>25</th>\n",
       "      <td>25</td>\n",
       "      <td>9953</td>\n",
       "      <td>Ацетилсалициловая к-та 500мг №10 тб</td>\n",
       "      <td>0000000000000000000013561</td>\n",
       "      <td>5163</td>\n",
       "      <td>13561</td>\n",
       "      <td>Ацетилсалициловая к-та таб 0,5 г №10</td>\n",
       "    </tr>\n",
       "    <tr>\n",
       "      <th>26</th>\n",
       "      <td>26</td>\n",
       "      <td>10604</td>\n",
       "      <td>Сульфокамфокаин 100мг/мл 2мл №10 амп р-р д/ин</td>\n",
       "      <td>0000000000000000000010250</td>\n",
       "      <td>5163</td>\n",
       "      <td>10250</td>\n",
       "      <td>Сульфокамфокаин амп 2 мл №10</td>\n",
       "    </tr>\n",
       "    <tr>\n",
       "      <th>27</th>\n",
       "      <td>27</td>\n",
       "      <td>11805</td>\n",
       "      <td>Пирацетам 1200мг №20 тб пл/о</td>\n",
       "      <td>0000000000000000000017469</td>\n",
       "      <td>5163</td>\n",
       "      <td>17469</td>\n",
       "      <td>Пирацетам таб 1200 мг № 20 п/о</td>\n",
       "    </tr>\n",
       "    <tr>\n",
       "      <th>28</th>\n",
       "      <td>28</td>\n",
       "      <td>3941</td>\n",
       "      <td>Торвакард 20мг №30 тб пл/о</td>\n",
       "      <td>0000000000000000000017256</td>\n",
       "      <td>5163</td>\n",
       "      <td>17256</td>\n",
       "      <td>Торвакард 0,02 №30 таб. п\\о</td>\n",
       "    </tr>\n",
       "  </tbody>\n",
       "</table>\n",
       "</div>"
      ],
      "text/plain": [
       "    Unnamed: 0  drug_cod                                          drug_x  \\\n",
       "25          25      9953             Ацетилсалициловая к-та 500мг №10 тб   \n",
       "26          26     10604   Сульфокамфокаин 100мг/мл 2мл №10 амп р-р д/ин   \n",
       "27          27     11805                    Пирацетам 1200мг №20 тб пл/о   \n",
       "28          28      3941                      Торвакард 20мг №30 тб пл/о   \n",
       "\n",
       "                provider_code  provider_drug_cod   code  \\\n",
       "25  0000000000000000000013561               5163  13561   \n",
       "26  0000000000000000000010250               5163  10250   \n",
       "27  0000000000000000000017469               5163  17469   \n",
       "28  0000000000000000000017256               5163  17256   \n",
       "\n",
       "                                  drug_y  \n",
       "25  Ацетилсалициловая к-та таб 0,5 г №10  \n",
       "26          Сульфокамфокаин амп 2 мл №10  \n",
       "27        Пирацетам таб 1200 мг № 20 п/о  \n",
       "28           Торвакард 0,02 №30 таб. п\\о  "
      ]
     },
     "execution_count": 3,
     "metadata": {},
     "output_type": "execute_result"
    }
   ],
   "source": [
    "data[25:29]"
   ]
  },
  {
   "cell_type": "code",
   "execution_count": 4,
   "metadata": {},
   "outputs": [
    {
     "name": "stdout",
     "output_type": "stream",
     "text": [
      "Количество строк в списке Парма Медикал: 20206\n",
      "Количество строк в списке сторонних организаций: 20206\n",
      "Количество уникальных препаратов Парма Медикал: 7230\n"
     ]
    }
   ],
   "source": [
    "Parma_Sentence = data.drug_x.tolist()\n",
    "Parma_drug_cod = data.drug_cod.tolist()\n",
    "Other_Sentence = data.drug_y.tolist()\n",
    "#Parma_Sentence = ['?' + DrugName.strip()  + '^' for DrugName in Parma_Sentence]\n",
    "#Other_Sentence = ['?' + DrugName.strip()  + '^' for DrugName in Other_Sentence]\n",
    "Parma_Sentence = [DrugName.strip()  for DrugName in Parma_Sentence]\n",
    "Other_Sentence = [DrugName.strip()  for DrugName in Other_Sentence]\n",
    "Parma_Sentence = ['\\t' +DrugName.split('\\t')[0] + '\\n' for DrugName in Parma_Sentence]\n",
    "Other_Sentence = ['\\t' +DrugName.split('\\t')[0] + '\\n' for DrugName in Other_Sentence]\n",
    "print('Количество строк в списке Парма Медикал:', len(Parma_Sentence), sep = ' ')\n",
    "print('Количество строк в списке сторонних организаций:', len(Other_Sentence), sep = ' ')\n",
    "PM_unik_drug = set()\n",
    "for drug_line in Parma_drug_cod:\n",
    "    if (drug_line not in PM_unik_drug):\n",
    "        PM_unik_drug.add(drug_line)\n",
    "PM_unik_drug = sorted(list(PM_unik_drug))    \n",
    "PM_unik_drug = set(PM_unik_drug)\n",
    "print('Количество уникальных препаратов Парма Медикал:',len(PM_unik_drug), sep = ' ')\n",
    "nb_samples = len(Other_Sentence)"
   ]
  },
  {
   "cell_type": "code",
   "execution_count": 5,
   "metadata": {},
   "outputs": [
    {
     "data": {
      "text/plain": [
       "'Словарь Парма Медикал: 143 символа'"
      ]
     },
     "metadata": {},
     "output_type": "display_data"
    }
   ],
   "source": [
    "PM_chars = set()\n",
    "for drug_line in Parma_Sentence:\n",
    "    for ch in drug_line:\n",
    "        if (ch not in PM_chars):\n",
    "            PM_chars.add(ch)\n",
    "PM_chars = sorted(list(PM_chars))    \n",
    "PM_chars = set(PM_chars)\n",
    "display('Словарь Парма Медикал: ' + str(len(PM_chars)) + \" символа\")"
   ]
  },
  {
   "cell_type": "code",
   "execution_count": 6,
   "metadata": {},
   "outputs": [
    {
     "data": {
      "text/plain": [
       "'Внешний словарь: 153 символа'"
      ]
     },
     "metadata": {},
     "output_type": "display_data"
    }
   ],
   "source": [
    "Other_chars = set()\n",
    "for drug_line in Other_Sentence:\n",
    "    for ch in drug_line:\n",
    "        if (ch not in Other_chars):\n",
    "            Other_chars.add(ch)\n",
    "Other_chars = sorted(list(Other_chars))\n",
    "Other_chars = set(Other_chars)\n",
    "display('Внешний словарь: ' + str(len(Other_chars)) + \" символа\")"
   ]
  },
  {
   "cell_type": "code",
   "execution_count": 7,
   "metadata": {},
   "outputs": [],
   "source": [
    "PM_index_to_char_dict = {}\n",
    "PM_char_to_index_dict = {}\n",
    "\n",
    "for k, v in enumerate(PM_chars):\n",
    "    PM_index_to_char_dict[k] = v\n",
    "    PM_char_to_index_dict[v] = k"
   ]
  },
  {
   "cell_type": "code",
   "execution_count": 8,
   "metadata": {},
   "outputs": [],
   "source": [
    "Other_index_to_char_dict = {}\n",
    "Other_char_to_index_dict = {}\n",
    "\n",
    "for k, v in enumerate(Other_chars):\n",
    "    Other_index_to_char_dict[k] = v\n",
    "    Other_char_to_index_dict[v] = k"
   ]
  },
  {
   "cell_type": "code",
   "execution_count": 9,
   "metadata": {},
   "outputs": [],
   "source": [
    "max_len_PM_sent = max([len(line) for line in Parma_Sentence])\n",
    "max_len_Other_sent = max([len(line) for line in Other_Sentence])"
   ]
  },
  {
   "cell_type": "code",
   "execution_count": 21,
   "metadata": {},
   "outputs": [],
   "source": [
    "tokenized_Other_sentences = np.zeros(shape = (nb_samples,max_len_Other_sent,len(Other_chars)), dtype='float32')"
   ]
  },
  {
   "cell_type": "markdown",
   "metadata": {},
   "source": [
    "\"\"\"encoder_input = Input(shape=(None,len(Other_chars)))\n",
    "encoder_LSTM = LSTM(256,return_state = True)\n",
    "encoder_outputs, encoder_h, encoder_c = encoder_LSTM (encoder_input)\n",
    "encoder_states = [encoder_h, encoder_c]\"\"\""
   ]
  },
  {
   "cell_type": "markdown",
   "metadata": {},
   "source": [
    "\"\"\"decoder_input = Input(shape=(None,len(PM_chars)))\n",
    "decoder_LSTM = LSTM(256,return_sequences=True, return_state = True)\n",
    "decoder_out, _ , _ = decoder_LSTM(decoder_input, initial_state=encoder_states)\n",
    "decoder_dense = Dense(len(PM_chars),activation='softmax')\n",
    "decoder_out = decoder_dense (decoder_out)\"\"\""
   ]
  },
  {
   "cell_type": "markdown",
   "metadata": {},
   "source": [
    "json_file = open('my_model_no__BosEos_1.json', 'r')\n",
    "lmodel = json_file.read()\n",
    "json_file.close()"
   ]
  },
  {
   "cell_type": "markdown",
   "metadata": {},
   "source": [
    "from keras.models import model_from_json\n",
    "my_model = model_from_json(lmodel)"
   ]
  },
  {
   "cell_type": "markdown",
   "metadata": {},
   "source": [
    "my_model.load_weights('my_model_no__BosEos_1.h5')"
   ]
  },
  {
   "cell_type": "markdown",
   "metadata": {},
   "source": [
    "my_model.compile(optimizer='rmsprop', loss='categorical_crossentropy')"
   ]
  },
  {
   "cell_type": "code",
   "execution_count": 16,
   "metadata": {},
   "outputs": [],
   "source": [
    "def decode_seq(inp_seq):\n",
    "    \n",
    "    # Initial states value is coming from the encoder \n",
    "    states_val = encoder_model_inf.predict(inp_seq)\n",
    "    \n",
    "    target_seq = np.zeros((1, 1, len(PM_chars)))\n",
    "    target_seq[0, 0,PM_char_to_index_dict[' ']] = 1\n",
    "    \n",
    "    translated_sent = ''\n",
    "    stop_condition = False\n",
    "    \n",
    "    while not stop_condition:\n",
    "        \n",
    "        decoder_out, decoder_h, decoder_c = decoder_model_inf.predict(x=[target_seq] + states_val)\n",
    "        \n",
    "        max_val_index = np.argmax(decoder_out[0,-1,:])\n",
    "        sampled_PM_char = PM_index_to_char_dict[max_val_index]\n",
    "        translated_sent += sampled_PM_char\n",
    "        \n",
    "        if ( (sampled_PM_char == '\\n') or (len(translated_sent) > max_len_PM_sent)) :\n",
    "            stop_condition = True\n",
    "        \n",
    "        target_seq = np.zeros((1, 1, len(PM_chars)))\n",
    "        target_seq[0, 0, max_val_index] = 1\n",
    "        \n",
    "        states_val = [decoder_h, decoder_c]\n",
    "        \n",
    "    return translated_sent"
   ]
  },
  {
   "cell_type": "code",
   "execution_count": 22,
   "metadata": {},
   "outputs": [
    {
     "name": "stdout",
     "output_type": "stream",
     "text": [
      "-\n",
      "Input sentence: \tИмудон таб д/рассас №24\n",
      "\n",
      "Decoded sentence: И****иII'IIьIШьIIШьIШсIьIШьIШ888ll>l>Cллxл&ллЛЛЗЛЗcчыиIIьIШьIШсIьIШьIШ888ll>l>Cллxл&ллЛЛЗЛЗcчыиIIьIШьIШ\n",
      "-\n",
      "Input sentence: \tГлаумакс 0,005% 2,5 мл фл-кап гл капли\n",
      "\n",
      "Decoded sentence: И****иII'IIьIШьIIШьIШсIьIШьIШ888ll>l>Cллxл&ллЛЛЗЛЗcчыиIIьIШьIШсIьIШьIШ888ll>l>Cллxл&ллЛЛЗЛЗcчыиIIьIШьIШ\n",
      "-\n",
      "Input sentence: \tЭссенциале-форте Н капс 300 мг №30.\n",
      "\n",
      "Decoded sentence: И****иII'IIьIШьIIШьIШсIьIШьIШ888ll>l>Cллxл&ллЛЛЗЛЗcчыиIIьIШьIШсIьIШьIШ888ll>l>Cллxл&ллЛЛЗЛЗcчыиIIьIШьIШ\n",
      "-\n",
      "Input sentence: \tЭссенциале-форте Н капс 300 мг №30.\n",
      "\n",
      "Decoded sentence: И****иII'IIьIШьIIШьIШсIьIШьIШ888ll>l>Cллxл&ллЛЛЗЛЗcчыиIIьIШьIШсIьIШьIШ888ll>l>Cллxл&ллЛЛЗЛЗcчыиIIьIШьIШ\n",
      "-\n",
      "Input sentence: \tДимедрол таб №10\n",
      "\n",
      "Decoded sentence: И****иII'IIьIШьIIШьIШсIьIШьIШ888ll>l>Cллxл&ллЛЛЗЛЗcчыиIIьIШьIШсIьIШьIШ888ll>l>Cллxл&ллЛЛЗЛЗcчыиIIьIШьIШ\n",
      "-\n",
      "Input sentence: \tИбупрофен гель 5% 50г туба\n",
      "\n",
      "Decoded sentence: И****иII'IIьIШьIIШьIШсIьIШьIШ888ll>l>Cллxл&ллЛЛЗЛЗcчыиIIьIШьIШсIьIШьIШ888ll>l>Cллxл&ллЛЛЗЛЗcчыиIIьIШьIШ\n",
      "-\n",
      "Input sentence: \tГевискон сусп фл 300 мл мятный\n",
      "\n",
      "Decoded sentence: И****иII'IIьIШьIIШьIШсIьIШьIШ888ll>l>Cллxл&ллЛЛЗЛЗcчыиIIьIШьIШсIьIШьIШ888ll>l>Cллxл&ллЛЛЗЛЗcчыиIIьIШьIШ\n",
      "-\n",
      "Input sentence: \tНурофен сусп фл 100 мг/5 мл 150 мл (апельсин) для детей\n",
      "\n",
      "Decoded sentence: И****иII'IIьIШьIIШьIШсIьIШьIШ888ll>l>Cллxл&ллЛЛЗЛЗcчыиIIьIШьIШсIьIШьIШ888ll>l>Cллxл&ллЛЛЗЛЗcчыиIIьIШьIШ\n",
      "-\n",
      "Input sentence: \tНурофен сусп фл 100 мг/5 мл 150 мл (клубничная) для детей\n",
      "\n",
      "Decoded sentence: И****иII'IIьIШьIIШьIШсIьIШьIШ888ll>l>Cллxл&ллЛЛЗЛЗcчыиIIьIШьIШсIьIШьIШ888ll>l>Cллxл&ллЛЛЗЛЗcчыиIIьIШьIШ\n",
      "-\n",
      "Input sentence: \tНормодипин таб 10 мг №30\n",
      "\n",
      "Decoded sentence: И****иII'IIьIШьIIШьIШсIьIШьIШ888ll>l>Cллxл&ллЛЛЗЛЗcчыиIIьIШьIШсIьIШьIШ888ll>l>Cллxл&ллЛЛЗЛЗcчыиIIьIШьIШ\n",
      "-\n",
      "Input sentence: \tРанитидин таб 150 мг №20 (инд уп)\n",
      "\n",
      "Decoded sentence: И****иII'IIьIШьIIШьIШсIьIШьIШ888ll>l>Cллxл&ллЛЛЗЛЗcчыиIIьIШьIШсIьIШьIШ888ll>l>Cллxл&ллЛЛЗЛЗcчыиIIьIШьIШ\n",
      "-\n",
      "Input sentence: \tАцетилсалициловая к-та таб 0,5 г №10\n",
      "\n",
      "Decoded sentence: И****иII'IIьIШьIIШьIШсIьIШьIШ888ll>l>Cллxл&ллЛЛЗЛЗcчыиIIьIШьIШсIьIШьIШ888ll>l>Cллxл&ллЛЛЗЛЗcчыиIIьIШьIШ\n",
      "-\n",
      "Input sentence: \tАримидекс таб 1 мг №28 (инд уп)\n",
      "\n",
      "Decoded sentence: И****иII'IIьIШьIIШьIШсIьIШьIШ888ll>l>Cллxл&ллЛЛЗЛЗcчыиIIьIШьIШсIьIШьIШ888ll>l>Cллxл&ллЛЛЗЛЗcчыиIIьIШьIШ\n",
      "-\n",
      "Input sentence: \tЦерепро капс 400 мг №14\n",
      "\n",
      "Decoded sentence: И****иII'IIьIШьIIШьIШсIьIШьIШ888ll>l>Cллxл&ллЛЛЗЛЗcчыиIIьIШьIШсIьIШьIШ888ll>l>Cллxл&ллЛЛЗЛЗcчыиIIьIШьIШ\n",
      "-\n",
      "Input sentence: \tНитроспрей 0,4 мг/доза 200 доз 10 мл (инд уп)\n",
      "\n",
      "Decoded sentence: И****иII'IIьIШьIIШьIШсIьIШьIШ888ll>l>Cллxл&ллЛЛЗЛЗcчыиIIьIШьIШсIьIШьIШ888ll>l>Cллxл&ллЛЛЗЛЗcчыиIIьIШьIШ\n",
      "-\n",
      "Input sentence: \tФуросемид таб 40 мг №50\n",
      "\n",
      "Decoded sentence: И****иII'IIьIШьIIШьIШсIьIШьIШ888ll>l>Cллxл&ллЛЛЗЛЗcчыиIIьIШьIШсIьIШьIШ888ll>l>Cллxл&ллЛЛЗЛЗcчыиIIьIШьIШ\n",
      "-\n",
      "Input sentence: \tБинт гипсовый 10х300\n",
      "\n",
      "Decoded sentence: И****иII'IIьIШьIIШьIШсIьIШьIШ888ll>l>Cллxл&ллЛЛЗЛЗcчыиIIьIШьIШсIьIШьIШ888ll>l>Cллxл&ллЛЛЗЛЗcчыиIIьIШьIШ\n",
      "-\n",
      "Input sentence: \tАльфа-Токоферола ацетат (витамин Е) фл 300 мг/мл 50 мл р-р в масле\n",
      "\n",
      "Decoded sentence: И****иII'IIьIШьIIШьIШсIьIШьIШ888ll>l>Cллxл&ллЛЛЗЛЗcчыиIIьIШьIШсIьIШьIШ888ll>l>Cллxл&ллЛЛЗЛЗcчыиIIьIШьIШ\n",
      "-\n",
      "Input sentence: \tРибоксин таб 200 мг №50 (инд уп)\n",
      "\n",
      "Decoded sentence: И****иII'IIьIШьIIШьIШсIьIШьIШ888ll>l>Cллxл&ллЛЛЗЛЗcчыиIIьIШьIШсIьIШьIШ888ll>l>Cллxл&ллЛЛЗЛЗcчыиIIьIШьIШ\n",
      "-\n",
      "Input sentence: \tЛейкопластырь катушка 3х300 ( инд уп).\n",
      "\n",
      "Decoded sentence: И****иII'IIьIШьIIШьIШсIьIШьIШ888ll>l>Cллxл&ллЛЛЗЛЗcчыиIIьIШьIШсIьIШьIШ888ll>l>Cллxл&ллЛЛЗЛЗcчыиIIьIШьIШ\n",
      "-\n",
      "Input sentence: \tБисептол таб 480 мг №28\n",
      "\n",
      "Decoded sentence: И****иII'IIьIШьIIШьIШсIьIШьIШ888ll>l>Cллxл&ллЛЛЗЛЗcчыиIIьIШьIШсIьIШьIШ888ll>l>Cллxл&ллЛЛЗЛЗcчыиIIьIШьIШ\n",
      "-\n",
      "Input sentence: \tПиона настойка фл 25 мл (инд уп)\n",
      "\n",
      "Decoded sentence: И****иII'IIьIШьIIШьIШсIьIШьIШ888ll>l>Cллxл&ллЛЛЗЛЗcчыиIIьIШьIШсIьIШьIШ888ll>l>Cллxл&ллЛЛЗЛЗcчыиIIьIШьIШ\n",
      "-\n",
      "Input sentence: \tПерчатки смотровые латексные н/стер р. МАЛ (пара)\n",
      "\n",
      "Decoded sentence: И****иII'IIьIШьIIШьIШсIьIШьIШ888ll>l>Cллxл&ллЛЛЗЛЗcчыиIIьIШьIШсIьIШьIШ888ll>l>Cллxл&ллЛЛЗЛЗcчыиIIьIШьIШ\n",
      "-\n",
      "Input sentence: \tБлоктран таб 50 мг №30\n",
      "\n",
      "Decoded sentence: И****иII'IIьIШьIIШьIШсIьIШьIШ888ll>l>Cллxл&ллЛЛЗЛЗcчыиIIьIШьIШсIьIШьIШ888ll>l>Cллxл&ллЛЛЗЛЗcчыиIIьIШьIШ\n",
      "-\n",
      "Input sentence: \tЭнтерофурил капс 100 мг №30\n",
      "\n",
      "Decoded sentence: И****иII'IIьIШьIIШьIШсIьIШьIШ888ll>l>Cллxл&ллЛЛЗЛЗcчыиIIьIШьIШсIьIШьIШ888ll>l>Cллxл&ллЛЛЗЛЗcчыиIIьIШьIШ\n",
      "-\n",
      "Input sentence: \tАцетилсалициловая к-та таб 0,5 г №10\n",
      "\n",
      "Decoded sentence: И****иII'IIьIШьIIШьIШсIьIШьIШ888ll>l>Cллxл&ллЛЛЗЛЗcчыиIIьIШьIШсIьIШьIШ888ll>l>Cллxл&ллЛЛЗЛЗcчыиIIьIШьIШ\n",
      "-\n",
      "Input sentence: \tСульфокамфокаин амп 2 мл №10\n",
      "\n",
      "Decoded sentence: И****иII'IIьIШьIIШьIШсIьIШьIШ888ll>l>Cллxл&ллЛЛЗЛЗcчыиIIьIШьIШсIьIШьIШ888ll>l>Cллxл&ллЛЛЗЛЗcчыиIIьIШьIШ\n",
      "-\n",
      "Input sentence: \tПирацетам таб 1200 мг № 20 п/о\n",
      "\n",
      "Decoded sentence: И****иII'IIьIШьIIШьIШсIьIШьIШ888ll>l>Cллxл&ллЛЛЗЛЗcчыиIIьIШьIШсIьIШьIШ888ll>l>Cллxл&ллЛЛЗЛЗcчыиIIьIШьIШ\n",
      "-\n",
      "Input sentence: \tТорвакард 0,02 №30 таб. п\\о\n",
      "\n",
      "Decoded sentence: И****иII'IIьIШьIIШьIШсIьIШьIШ888ll>l>Cллxл&ллЛЛЗЛЗcчыиIIьIШьIШсIьIШьIШ888ll>l>Cллxл&ллЛЛЗЛЗcчыиIIьIШьIШ\n",
      "-\n",
      "Input sentence: \tФенистил  0,1% гель 50 г\n",
      "\n",
      "Decoded sentence: И****иII'IIьIШьIIШьIШсIьIШьIШ888ll>l>Cллxл&ллЛЛЗЛЗcчыиIIьIШьIШсIьIШьIШ888ll>l>Cллxл&ллЛЛЗЛЗcчыиIIьIШьIШ\n"
     ]
    }
   ],
   "source": [
    "encoder_input = Input(shape=(None,len(Other_chars)))\n",
    "encoder_LSTM = LSTM(256,return_state = True)\n",
    "encoder_outputs, encoder_h, encoder_c = encoder_LSTM (encoder_input)\n",
    "encoder_states = [encoder_h, encoder_c]\n",
    "encoder_model_inf = Model(encoder_input, encoder_states)\n",
    "\n",
    "decoder_input = Input(shape=(None,len(PM_chars)))\n",
    "decoder_LSTM = LSTM(256,return_sequences=True, return_state = True)\n",
    "decoder_out, _ , _ = decoder_LSTM(decoder_input, initial_state=encoder_states)\n",
    "decoder_dense = Dense(len(PM_chars),activation='softmax')\n",
    "decoder_out = decoder_dense (decoder_out)\n",
    "\n",
    "json_file = open('my_model_no__BosEos_1.json', 'r')\n",
    "lmodel = json_file.read()\n",
    "json_file.close()\n",
    "\n",
    "from keras.models import model_from_json\n",
    "my_model = model_from_json(lmodel)\n",
    "my_model.load_weights('my_model_no__BosEos_1.h5')\n",
    "my_model.compile(optimizer='rmsprop', loss='categorical_crossentropy')\n",
    "\n",
    "# Decoder inference model\n",
    "decoder_state_input_h = Input(shape=(256,))\n",
    "decoder_state_input_c = Input(shape=(256,))\n",
    "decoder_input_states = [decoder_state_input_h, decoder_state_input_c]\n",
    "\n",
    "decoder_out, decoder_h, decoder_c = decoder_LSTM(decoder_input, \n",
    "                                                 initial_state=decoder_input_states)\n",
    "\n",
    "decoder_states = [decoder_h , decoder_c]\n",
    "\n",
    "decoder_out = decoder_dense(decoder_out)\n",
    "\n",
    "decoder_model_inf = Model(inputs=[decoder_input] + decoder_input_states,\n",
    "                          outputs=[decoder_out] + decoder_states )\n",
    "\n",
    "for seq_index in range(30):\n",
    "    inp_seq = tokenized_Other_sentences[seq_index:seq_index+1]\n",
    "    translated_sent = decode_seq(inp_seq)\n",
    "    print('-')\n",
    "    print('Input sentence:', Other_Sentence[seq_index])\n",
    "    print('Decoded sentence:', translated_sent)"
   ]
  },
  {
   "cell_type": "code",
   "execution_count": null,
   "metadata": {},
   "outputs": [],
   "source": []
  }
 ],
 "metadata": {
  "kernelspec": {
   "display_name": "Python 3",
   "language": "python",
   "name": "python3"
  },
  "language_info": {
   "codemirror_mode": {
    "name": "ipython",
    "version": 3
   },
   "file_extension": ".py",
   "mimetype": "text/x-python",
   "name": "python",
   "nbconvert_exporter": "python",
   "pygments_lexer": "ipython3",
   "version": "3.6.4"
  }
 },
 "nbformat": 4,
 "nbformat_minor": 2
}
